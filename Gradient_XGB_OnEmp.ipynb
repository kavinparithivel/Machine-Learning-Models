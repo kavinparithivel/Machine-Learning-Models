{
 "cells": [
  {
   "cell_type": "markdown",
   "metadata": {
    "id": "WGmRjRGuu5IA"
   },
   "source": [
    "### About the data set (Employee data)\n",
    "\n",
    "The dataset contains information about employees. The aim is to find which employees might undergo attrition.<br> Attribute information:\n",
    "\n",
    "**Age:** Age of the employee\n",
    "\n",
    "**BusinessTravel:** How much travel is involved in the job for the employee:No Travel, Travel Frequently, Tavel Rarely\n",
    "\n",
    "**Department:** Department of the employee: Human Resources, Reserach & Development, Sales\n",
    "\n",
    "**Commute:** Number of miles of daily commute for the employee\n",
    "\n",
    "**Education:** Employee education field: Human Resources, Life Sciences, Marketing, Medical Sciences, Technical, Others\n",
    "\n",
    "**EnvironmentSatisfaction:** Satisfaction of employee with office environment\n",
    "\n",
    "**Gender:** Employee gender\n",
    "\n",
    "**JobInvolvement:** Job involvement rating\n",
    "\n",
    "**JobLevel:**  Job level for employee designation\n",
    "\n",
    "**JobSatisfaction:** Employee job satisfaction rating\n",
    "\n",
    "**MonthlyIncome:** Employee monthly salary\n",
    "\n",
    "**OverTime:** Has the employee been open to working overtime: Yes or No\n",
    "\n",
    "**PercentSalaryHike:** Percent increase in salary\n",
    "\n",
    "**PerformanceRating:** Overall employee performance rating\n",
    "\n",
    "**YearsAtCompany:** Number of years the employee has worked with the company\n",
    "\n",
    "**Attrition:** Employee leaving the company: Yes or No"
   ]
  },
  {
   "cell_type": "markdown",
   "metadata": {
    "id": "mYapywe8u5IB"
   },
   "source": [
    "## Table of Content\n",
    "\n",
    "1. **[Gradient Boosting](#gb)**\n",
    "2. **[Extreme Gradient Boosting (XGBoost)](#xgb)**"
   ]
  },
  {
   "cell_type": "markdown",
   "metadata": {
    "id": "lM31vKhzu5IC"
   },
   "source": [
    "**Import the required libraries**"
   ]
  },
  {
   "cell_type": "code",
   "execution_count": 7,
   "metadata": {
    "id": "pzWaSoZwu5IC"
   },
   "outputs": [
    {
     "name": "stdout",
     "output_type": "stream",
     "text": [
      "Requirement already satisfied: xgboost in c:\\users\\kavin\\anaconda3\\lib\\site-packages (2.1.1)\n",
      "Requirement already satisfied: numpy in c:\\users\\kavin\\anaconda3\\lib\\site-packages (from xgboost) (1.26.4)\n",
      "Requirement already satisfied: scipy in c:\\users\\kavin\\anaconda3\\lib\\site-packages (from xgboost) (1.11.4)\n"
     ]
    }
   ],
   "source": [
    "# import 'Pandas'\n",
    "import pandas as pd\n",
    "\n",
    "# import 'Numpy'\n",
    "import numpy as np\n",
    "\n",
    "# import subpackage of Matplotlib\n",
    "import matplotlib.pyplot as plt\n",
    "from matplotlib.colors import ListedColormap\n",
    "\n",
    "# import 'Seaborn'\n",
    "import seaborn as sns\n",
    "\n",
    "# to suppress warnings\n",
    "from warnings import filterwarnings\n",
    "filterwarnings('ignore')\n",
    "\n",
    "# display all columns of the dataframe\n",
    "pd.options.display.max_columns = None\n",
    "\n",
    "# display all rows of the dataframe\n",
    "pd.options.display.max_rows = None\n",
    "\n",
    "# to display the float values upto 6 decimal places\n",
    "pd.options.display.float_format = '{:.6f}'.format\n",
    "\n",
    "# import train-test split\n",
    "from sklearn.model_selection import train_test_split\n",
    "\n",
    "# import StandardScaler to perform scaling\n",
    "from sklearn.preprocessing import StandardScaler\n",
    "\n",
    "# resample the dataset\n",
    "from sklearn.utils import resample\n",
    "from sklearn.utils import shuffle\n",
    "\n",
    "# import various functions from sklearn\n",
    "from sklearn import metrics\n",
    "from sklearn.metrics import classification_report\n",
    "from sklearn.ensemble import AdaBoostClassifier\n",
    "from sklearn.ensemble import GradientBoostingClassifier\n",
    "from sklearn.model_selection import GridSearchCV\n",
    "from sklearn.metrics import accuracy_score\n",
    "from sklearn.metrics import roc_curve\n",
    "from sklearn.metrics import roc_auc_score\n",
    "from sklearn.metrics import confusion_matrix\n",
    "from sklearn.model_selection import GridSearchCV\n",
    "from sklearn.model_selection import cross_val_score\n",
    "from sklearn.tree import DecisionTreeClassifier\n",
    "from sklearn.ensemble import RandomForestClassifier\n",
    "from sklearn.ensemble import StackingClassifier\n",
    "\n",
    "\n",
    "!pip install xgboost\n",
    "from xgboost import XGBClassifier\n",
    "\n",
    "import random"
   ]
  },
  {
   "cell_type": "code",
   "execution_count": 8,
   "metadata": {
    "id": "oKr-KJzVu5IG"
   },
   "outputs": [],
   "source": [
    "# set the plot size using 'rcParams'\n",
    "# once the plot size is set using 'rcParams', it sets the size of all the forthcoming plots in the file\n",
    "# pass width and height in inches to 'figure.figsize'\n",
    "plt.rcParams['figure.figsize'] = [15,8]"
   ]
  },
  {
   "cell_type": "markdown",
   "metadata": {
    "id": "JTBmxPbeu5IH"
   },
   "source": [
    "#### Load the csv file"
   ]
  },
  {
   "cell_type": "code",
   "execution_count": 10,
   "metadata": {
    "id": "5pZOJjUKu5IH",
    "outputId": "71ba366c-530f-4ac0-a199-2d40413fa536"
   },
   "outputs": [
    {
     "data": {
      "text/html": [
       "<div>\n",
       "<style scoped>\n",
       "    .dataframe tbody tr th:only-of-type {\n",
       "        vertical-align: middle;\n",
       "    }\n",
       "\n",
       "    .dataframe tbody tr th {\n",
       "        vertical-align: top;\n",
       "    }\n",
       "\n",
       "    .dataframe thead th {\n",
       "        text-align: right;\n",
       "    }\n",
       "</style>\n",
       "<table border=\"1\" class=\"dataframe\">\n",
       "  <thead>\n",
       "    <tr style=\"text-align: right;\">\n",
       "      <th></th>\n",
       "      <th>Age</th>\n",
       "      <th>Attrition</th>\n",
       "      <th>BusinessTravel</th>\n",
       "      <th>Department</th>\n",
       "      <th>DistanceFromHome</th>\n",
       "      <th>EducationField</th>\n",
       "      <th>EnvironmentSatisfaction</th>\n",
       "      <th>Gender</th>\n",
       "      <th>JobInvolvement</th>\n",
       "      <th>JobLevel</th>\n",
       "      <th>JobRole</th>\n",
       "      <th>JobSatisfaction</th>\n",
       "      <th>MonthlyIncome</th>\n",
       "      <th>NumCompaniesWorked</th>\n",
       "      <th>OverTime</th>\n",
       "      <th>PercentSalaryHike</th>\n",
       "      <th>PerformanceRating</th>\n",
       "      <th>YearsAtCompany</th>\n",
       "    </tr>\n",
       "  </thead>\n",
       "  <tbody>\n",
       "    <tr>\n",
       "      <th>0</th>\n",
       "      <td>33</td>\n",
       "      <td>Yes</td>\n",
       "      <td>Travel_Frequently</td>\n",
       "      <td>Research &amp; Development</td>\n",
       "      <td>3</td>\n",
       "      <td>Life Sciences</td>\n",
       "      <td>1</td>\n",
       "      <td>Male</td>\n",
       "      <td>3</td>\n",
       "      <td>1</td>\n",
       "      <td>Research Scientist</td>\n",
       "      <td>1</td>\n",
       "      <td>3348</td>\n",
       "      <td>1</td>\n",
       "      <td>Yes</td>\n",
       "      <td>11</td>\n",
       "      <td>3</td>\n",
       "      <td>10</td>\n",
       "    </tr>\n",
       "    <tr>\n",
       "      <th>1</th>\n",
       "      <td>32</td>\n",
       "      <td>Yes</td>\n",
       "      <td>Travel_Rarely</td>\n",
       "      <td>Sales</td>\n",
       "      <td>4</td>\n",
       "      <td>Medical</td>\n",
       "      <td>4</td>\n",
       "      <td>Male</td>\n",
       "      <td>1</td>\n",
       "      <td>3</td>\n",
       "      <td>Sales Executive</td>\n",
       "      <td>4</td>\n",
       "      <td>10400</td>\n",
       "      <td>1</td>\n",
       "      <td>No</td>\n",
       "      <td>11</td>\n",
       "      <td>3</td>\n",
       "      <td>14</td>\n",
       "    </tr>\n",
       "    <tr>\n",
       "      <th>2</th>\n",
       "      <td>40</td>\n",
       "      <td>Yes</td>\n",
       "      <td>Travel_Rarely</td>\n",
       "      <td>Research &amp; Development</td>\n",
       "      <td>9</td>\n",
       "      <td>Life Sciences</td>\n",
       "      <td>4</td>\n",
       "      <td>Male</td>\n",
       "      <td>3</td>\n",
       "      <td>1</td>\n",
       "      <td>Laboratory Technician</td>\n",
       "      <td>1</td>\n",
       "      <td>2018</td>\n",
       "      <td>3</td>\n",
       "      <td>No</td>\n",
       "      <td>14</td>\n",
       "      <td>3</td>\n",
       "      <td>5</td>\n",
       "    </tr>\n",
       "    <tr>\n",
       "      <th>3</th>\n",
       "      <td>42</td>\n",
       "      <td>No</td>\n",
       "      <td>Travel_Rarely</td>\n",
       "      <td>Research &amp; Development</td>\n",
       "      <td>7</td>\n",
       "      <td>Medical</td>\n",
       "      <td>2</td>\n",
       "      <td>Female</td>\n",
       "      <td>4</td>\n",
       "      <td>2</td>\n",
       "      <td>Research Scientist</td>\n",
       "      <td>2</td>\n",
       "      <td>2372</td>\n",
       "      <td>6</td>\n",
       "      <td>Yes</td>\n",
       "      <td>16</td>\n",
       "      <td>3</td>\n",
       "      <td>1</td>\n",
       "    </tr>\n",
       "    <tr>\n",
       "      <th>4</th>\n",
       "      <td>43</td>\n",
       "      <td>No</td>\n",
       "      <td>Travel_Frequently</td>\n",
       "      <td>Research &amp; Development</td>\n",
       "      <td>27</td>\n",
       "      <td>Life Sciences</td>\n",
       "      <td>3</td>\n",
       "      <td>Female</td>\n",
       "      <td>3</td>\n",
       "      <td>3</td>\n",
       "      <td>Manufacturing Director</td>\n",
       "      <td>1</td>\n",
       "      <td>10820</td>\n",
       "      <td>8</td>\n",
       "      <td>No</td>\n",
       "      <td>11</td>\n",
       "      <td>3</td>\n",
       "      <td>8</td>\n",
       "    </tr>\n",
       "  </tbody>\n",
       "</table>\n",
       "</div>"
      ],
      "text/plain": [
       "   Age Attrition     BusinessTravel              Department  DistanceFromHome  \\\n",
       "0   33       Yes  Travel_Frequently  Research & Development                 3   \n",
       "1   32       Yes      Travel_Rarely                   Sales                 4   \n",
       "2   40       Yes      Travel_Rarely  Research & Development                 9   \n",
       "3   42        No      Travel_Rarely  Research & Development                 7   \n",
       "4   43        No  Travel_Frequently  Research & Development                27   \n",
       "\n",
       "  EducationField  EnvironmentSatisfaction  Gender  JobInvolvement  JobLevel  \\\n",
       "0  Life Sciences                        1    Male               3         1   \n",
       "1        Medical                        4    Male               1         3   \n",
       "2  Life Sciences                        4    Male               3         1   \n",
       "3        Medical                        2  Female               4         2   \n",
       "4  Life Sciences                        3  Female               3         3   \n",
       "\n",
       "                  JobRole  JobSatisfaction  MonthlyIncome  NumCompaniesWorked  \\\n",
       "0      Research Scientist                1           3348                   1   \n",
       "1         Sales Executive                4          10400                   1   \n",
       "2   Laboratory Technician                1           2018                   3   \n",
       "3      Research Scientist                2           2372                   6   \n",
       "4  Manufacturing Director                1          10820                   8   \n",
       "\n",
       "  OverTime  PercentSalaryHike  PerformanceRating  YearsAtCompany  \n",
       "0      Yes                 11                  3              10  \n",
       "1       No                 11                  3              14  \n",
       "2       No                 14                  3               5  \n",
       "3      Yes                 16                  3               1  \n",
       "4       No                 11                  3               8  "
      ]
     },
     "execution_count": 10,
     "metadata": {},
     "output_type": "execute_result"
    }
   ],
   "source": [
    "# load the csv file\n",
    "df_employee = pd.read_csv('emp_attrition.csv')\n",
    "\n",
    "# display the first five observations\n",
    "df_employee.head()"
   ]
  },
  {
   "cell_type": "code",
   "execution_count": 11,
   "metadata": {
    "id": "Wk_Q1B2Gu5II",
    "outputId": "8c957552-1a92-41ef-ea79-3fa3a11c339b"
   },
   "outputs": [
    {
     "data": {
      "text/plain": [
       "Age                         int64\n",
       "Attrition                  object\n",
       "BusinessTravel             object\n",
       "Department                 object\n",
       "DistanceFromHome            int64\n",
       "EducationField             object\n",
       "EnvironmentSatisfaction     int64\n",
       "Gender                     object\n",
       "JobInvolvement              int64\n",
       "JobLevel                    int64\n",
       "JobRole                    object\n",
       "JobSatisfaction             int64\n",
       "MonthlyIncome               int64\n",
       "NumCompaniesWorked          int64\n",
       "OverTime                   object\n",
       "PercentSalaryHike           int64\n",
       "PerformanceRating           int64\n",
       "YearsAtCompany              int64\n",
       "dtype: object"
      ]
     },
     "execution_count": 11,
     "metadata": {},
     "output_type": "execute_result"
    }
   ],
   "source": [
    "# check data types of variables\n",
    "df_employee.dtypes"
   ]
  },
  {
   "cell_type": "markdown",
   "metadata": {
    "id": "Z6wODCjzu5IJ"
   },
   "source": [
    "**Data Preparation**"
   ]
  },
  {
   "cell_type": "code",
   "execution_count": 13,
   "metadata": {
    "id": "SQYJZA6pu5IK"
   },
   "outputs": [],
   "source": [
    "# reset the row index\n",
    "df_employee = df_employee.reset_index(drop=True)"
   ]
  },
  {
   "cell_type": "markdown",
   "metadata": {
    "id": "sgnKvsbru5IL"
   },
   "source": [
    "**Encode the categorical variables.**"
   ]
  },
  {
   "cell_type": "markdown",
   "metadata": {
    "id": "zAbZKNIWu5IL"
   },
   "source": [
    "#### Split the dependent and independent variables."
   ]
  },
  {
   "cell_type": "code",
   "execution_count": 16,
   "metadata": {
    "id": "Rit3CerYu5IL"
   },
   "outputs": [],
   "source": [
    "# store the target variable \"Attrition\" in a dataframe 'df_target'\n",
    "df_target = df_employee['Attrition']\n",
    "\n",
    "# store all the independent variables in a dataframe 'df_feature'\n",
    "# drop the column \"Attrition\" using drop()\n",
    "# 'axis = 1' drops the specified column\n",
    "df_feature = df_employee.drop('Attrition', axis = 1)"
   ]
  },
  {
   "cell_type": "code",
   "execution_count": 17,
   "metadata": {
    "id": "Y9rwAtj1u5IL",
    "scrolled": true
   },
   "outputs": [],
   "source": [
    "# if the value in the target variable is 'Yes' then replace it with 1 else with 0\n",
    "for i in range(len(df_target)):\n",
    "    if df_target[i] == 'Yes':\n",
    "        df_target[i] = 1\n",
    "    else:\n",
    "        df_target[i] = 0\n",
    "\n",
    "# change the datatype of the target variable to integer\n",
    "df_target = df_target.astype('int')"
   ]
  },
  {
   "cell_type": "markdown",
   "metadata": {
    "id": "uHkgdMHqu5IL"
   },
   "source": [
    "#### Filter numerical and categorical variables."
   ]
  },
  {
   "cell_type": "code",
   "execution_count": 19,
   "metadata": {
    "id": "fH0US0dju5IM",
    "outputId": "f4076d88-7bcc-4a89-a3e4-53248d465a59"
   },
   "outputs": [
    {
     "data": {
      "text/plain": [
       "Index(['Age', 'DistanceFromHome', 'EnvironmentSatisfaction', 'JobInvolvement',\n",
       "       'JobLevel', 'JobSatisfaction', 'MonthlyIncome', 'NumCompaniesWorked',\n",
       "       'PercentSalaryHike', 'PerformanceRating', 'YearsAtCompany'],\n",
       "      dtype='object')"
      ]
     },
     "execution_count": 19,
     "metadata": {},
     "output_type": "execute_result"
    }
   ],
   "source": [
    "# filter the numerical features in the dataset\n",
    "# 'select_dtypes' is used to select the variables with given data type\n",
    "# 'include = [np.number]' will include all the numerical variables\n",
    "df_num = df_feature.select_dtypes(include = [np.number])\n",
    "\n",
    "# display numerical features\n",
    "df_num.columns"
   ]
  },
  {
   "cell_type": "code",
   "execution_count": 20,
   "metadata": {
    "id": "eAPmNTJ-u5IM",
    "outputId": "d8f1c751-44b9-4fa5-bbce-a620b79a5710"
   },
   "outputs": [
    {
     "data": {
      "text/plain": [
       "Index(['BusinessTravel', 'Department', 'EducationField', 'Gender', 'JobRole',\n",
       "       'OverTime'],\n",
       "      dtype='object')"
      ]
     },
     "execution_count": 20,
     "metadata": {},
     "output_type": "execute_result"
    }
   ],
   "source": [
    "# filter the categorical features in the dataset\n",
    "# 'select_dtypes' is used to select the variables with given data type\n",
    "# 'include = [np.object]' will include all the categorical variables\n",
    "df_cat = df_feature.select_dtypes(include = [object])\n",
    "\n",
    "# display categorical features\n",
    "df_cat.columns"
   ]
  },
  {
   "cell_type": "markdown",
   "metadata": {
    "id": "72VU1BHuu5IM"
   },
   "source": [
    "**Encode the each categorical variable and create (n-1) dummy variables for n categories of the variable.**"
   ]
  },
  {
   "cell_type": "code",
   "execution_count": 22,
   "metadata": {
    "id": "R_fgjEbuu5IM"
   },
   "outputs": [],
   "source": [
    "# use 'get_dummies' from pandas to create dummy variables\n",
    "# use 'drop_first' to create (n-1) dummy variables\n",
    "dummy_var = pd.get_dummies(data = df_cat, drop_first = True)"
   ]
  },
  {
   "cell_type": "markdown",
   "metadata": {
    "id": "N6kheA1au5IM"
   },
   "source": [
    "#### Concatenate numerical and dummy encoded categorical variables."
   ]
  },
  {
   "cell_type": "code",
   "execution_count": 24,
   "metadata": {
    "id": "7ZLCUOfeu5IN",
    "outputId": "d0aacf7d-6408-4950-d5c5-85c94e3eb311"
   },
   "outputs": [
    {
     "data": {
      "text/html": [
       "<div>\n",
       "<style scoped>\n",
       "    .dataframe tbody tr th:only-of-type {\n",
       "        vertical-align: middle;\n",
       "    }\n",
       "\n",
       "    .dataframe tbody tr th {\n",
       "        vertical-align: top;\n",
       "    }\n",
       "\n",
       "    .dataframe thead th {\n",
       "        text-align: right;\n",
       "    }\n",
       "</style>\n",
       "<table border=\"1\" class=\"dataframe\">\n",
       "  <thead>\n",
       "    <tr style=\"text-align: right;\">\n",
       "      <th></th>\n",
       "      <th>Age</th>\n",
       "      <th>DistanceFromHome</th>\n",
       "      <th>EnvironmentSatisfaction</th>\n",
       "      <th>JobInvolvement</th>\n",
       "      <th>JobLevel</th>\n",
       "      <th>JobSatisfaction</th>\n",
       "      <th>MonthlyIncome</th>\n",
       "      <th>NumCompaniesWorked</th>\n",
       "      <th>PercentSalaryHike</th>\n",
       "      <th>PerformanceRating</th>\n",
       "      <th>YearsAtCompany</th>\n",
       "      <th>BusinessTravel_Travel_Frequently</th>\n",
       "      <th>BusinessTravel_Travel_Rarely</th>\n",
       "      <th>Department_Research &amp; Development</th>\n",
       "      <th>Department_Sales</th>\n",
       "      <th>EducationField_Life Sciences</th>\n",
       "      <th>EducationField_Marketing</th>\n",
       "      <th>EducationField_Medical</th>\n",
       "      <th>EducationField_Other</th>\n",
       "      <th>EducationField_Technical Degree</th>\n",
       "      <th>Gender_Male</th>\n",
       "      <th>JobRole_Human Resources</th>\n",
       "      <th>JobRole_Laboratory Technician</th>\n",
       "      <th>JobRole_Manager</th>\n",
       "      <th>JobRole_Manufacturing Director</th>\n",
       "      <th>JobRole_Research Director</th>\n",
       "      <th>JobRole_Research Scientist</th>\n",
       "      <th>JobRole_Sales Executive</th>\n",
       "      <th>JobRole_Sales Representative</th>\n",
       "      <th>OverTime_Yes</th>\n",
       "    </tr>\n",
       "  </thead>\n",
       "  <tbody>\n",
       "    <tr>\n",
       "      <th>0</th>\n",
       "      <td>33</td>\n",
       "      <td>3</td>\n",
       "      <td>1</td>\n",
       "      <td>3</td>\n",
       "      <td>1</td>\n",
       "      <td>1</td>\n",
       "      <td>3348</td>\n",
       "      <td>1</td>\n",
       "      <td>11</td>\n",
       "      <td>3</td>\n",
       "      <td>10</td>\n",
       "      <td>True</td>\n",
       "      <td>False</td>\n",
       "      <td>True</td>\n",
       "      <td>False</td>\n",
       "      <td>True</td>\n",
       "      <td>False</td>\n",
       "      <td>False</td>\n",
       "      <td>False</td>\n",
       "      <td>False</td>\n",
       "      <td>True</td>\n",
       "      <td>False</td>\n",
       "      <td>False</td>\n",
       "      <td>False</td>\n",
       "      <td>False</td>\n",
       "      <td>False</td>\n",
       "      <td>True</td>\n",
       "      <td>False</td>\n",
       "      <td>False</td>\n",
       "      <td>True</td>\n",
       "    </tr>\n",
       "    <tr>\n",
       "      <th>1</th>\n",
       "      <td>32</td>\n",
       "      <td>4</td>\n",
       "      <td>4</td>\n",
       "      <td>1</td>\n",
       "      <td>3</td>\n",
       "      <td>4</td>\n",
       "      <td>10400</td>\n",
       "      <td>1</td>\n",
       "      <td>11</td>\n",
       "      <td>3</td>\n",
       "      <td>14</td>\n",
       "      <td>False</td>\n",
       "      <td>True</td>\n",
       "      <td>False</td>\n",
       "      <td>True</td>\n",
       "      <td>False</td>\n",
       "      <td>False</td>\n",
       "      <td>True</td>\n",
       "      <td>False</td>\n",
       "      <td>False</td>\n",
       "      <td>True</td>\n",
       "      <td>False</td>\n",
       "      <td>False</td>\n",
       "      <td>False</td>\n",
       "      <td>False</td>\n",
       "      <td>False</td>\n",
       "      <td>False</td>\n",
       "      <td>True</td>\n",
       "      <td>False</td>\n",
       "      <td>False</td>\n",
       "    </tr>\n",
       "    <tr>\n",
       "      <th>2</th>\n",
       "      <td>40</td>\n",
       "      <td>9</td>\n",
       "      <td>4</td>\n",
       "      <td>3</td>\n",
       "      <td>1</td>\n",
       "      <td>1</td>\n",
       "      <td>2018</td>\n",
       "      <td>3</td>\n",
       "      <td>14</td>\n",
       "      <td>3</td>\n",
       "      <td>5</td>\n",
       "      <td>False</td>\n",
       "      <td>True</td>\n",
       "      <td>True</td>\n",
       "      <td>False</td>\n",
       "      <td>True</td>\n",
       "      <td>False</td>\n",
       "      <td>False</td>\n",
       "      <td>False</td>\n",
       "      <td>False</td>\n",
       "      <td>True</td>\n",
       "      <td>False</td>\n",
       "      <td>True</td>\n",
       "      <td>False</td>\n",
       "      <td>False</td>\n",
       "      <td>False</td>\n",
       "      <td>False</td>\n",
       "      <td>False</td>\n",
       "      <td>False</td>\n",
       "      <td>False</td>\n",
       "    </tr>\n",
       "    <tr>\n",
       "      <th>3</th>\n",
       "      <td>42</td>\n",
       "      <td>7</td>\n",
       "      <td>2</td>\n",
       "      <td>4</td>\n",
       "      <td>2</td>\n",
       "      <td>2</td>\n",
       "      <td>2372</td>\n",
       "      <td>6</td>\n",
       "      <td>16</td>\n",
       "      <td>3</td>\n",
       "      <td>1</td>\n",
       "      <td>False</td>\n",
       "      <td>True</td>\n",
       "      <td>True</td>\n",
       "      <td>False</td>\n",
       "      <td>False</td>\n",
       "      <td>False</td>\n",
       "      <td>True</td>\n",
       "      <td>False</td>\n",
       "      <td>False</td>\n",
       "      <td>False</td>\n",
       "      <td>False</td>\n",
       "      <td>False</td>\n",
       "      <td>False</td>\n",
       "      <td>False</td>\n",
       "      <td>False</td>\n",
       "      <td>True</td>\n",
       "      <td>False</td>\n",
       "      <td>False</td>\n",
       "      <td>True</td>\n",
       "    </tr>\n",
       "    <tr>\n",
       "      <th>4</th>\n",
       "      <td>43</td>\n",
       "      <td>27</td>\n",
       "      <td>3</td>\n",
       "      <td>3</td>\n",
       "      <td>3</td>\n",
       "      <td>1</td>\n",
       "      <td>10820</td>\n",
       "      <td>8</td>\n",
       "      <td>11</td>\n",
       "      <td>3</td>\n",
       "      <td>8</td>\n",
       "      <td>True</td>\n",
       "      <td>False</td>\n",
       "      <td>True</td>\n",
       "      <td>False</td>\n",
       "      <td>True</td>\n",
       "      <td>False</td>\n",
       "      <td>False</td>\n",
       "      <td>False</td>\n",
       "      <td>False</td>\n",
       "      <td>False</td>\n",
       "      <td>False</td>\n",
       "      <td>False</td>\n",
       "      <td>False</td>\n",
       "      <td>True</td>\n",
       "      <td>False</td>\n",
       "      <td>False</td>\n",
       "      <td>False</td>\n",
       "      <td>False</td>\n",
       "      <td>False</td>\n",
       "    </tr>\n",
       "  </tbody>\n",
       "</table>\n",
       "</div>"
      ],
      "text/plain": [
       "   Age  DistanceFromHome  EnvironmentSatisfaction  JobInvolvement  JobLevel  \\\n",
       "0   33                 3                        1               3         1   \n",
       "1   32                 4                        4               1         3   \n",
       "2   40                 9                        4               3         1   \n",
       "3   42                 7                        2               4         2   \n",
       "4   43                27                        3               3         3   \n",
       "\n",
       "   JobSatisfaction  MonthlyIncome  NumCompaniesWorked  PercentSalaryHike  \\\n",
       "0                1           3348                   1                 11   \n",
       "1                4          10400                   1                 11   \n",
       "2                1           2018                   3                 14   \n",
       "3                2           2372                   6                 16   \n",
       "4                1          10820                   8                 11   \n",
       "\n",
       "   PerformanceRating  YearsAtCompany  BusinessTravel_Travel_Frequently  \\\n",
       "0                  3              10                              True   \n",
       "1                  3              14                             False   \n",
       "2                  3               5                             False   \n",
       "3                  3               1                             False   \n",
       "4                  3               8                              True   \n",
       "\n",
       "   BusinessTravel_Travel_Rarely  Department_Research & Development  \\\n",
       "0                         False                               True   \n",
       "1                          True                              False   \n",
       "2                          True                               True   \n",
       "3                          True                               True   \n",
       "4                         False                               True   \n",
       "\n",
       "   Department_Sales  EducationField_Life Sciences  EducationField_Marketing  \\\n",
       "0             False                          True                     False   \n",
       "1              True                         False                     False   \n",
       "2             False                          True                     False   \n",
       "3             False                         False                     False   \n",
       "4             False                          True                     False   \n",
       "\n",
       "   EducationField_Medical  EducationField_Other  \\\n",
       "0                   False                 False   \n",
       "1                    True                 False   \n",
       "2                   False                 False   \n",
       "3                    True                 False   \n",
       "4                   False                 False   \n",
       "\n",
       "   EducationField_Technical Degree  Gender_Male  JobRole_Human Resources  \\\n",
       "0                            False         True                    False   \n",
       "1                            False         True                    False   \n",
       "2                            False         True                    False   \n",
       "3                            False        False                    False   \n",
       "4                            False        False                    False   \n",
       "\n",
       "   JobRole_Laboratory Technician  JobRole_Manager  \\\n",
       "0                          False            False   \n",
       "1                          False            False   \n",
       "2                           True            False   \n",
       "3                          False            False   \n",
       "4                          False            False   \n",
       "\n",
       "   JobRole_Manufacturing Director  JobRole_Research Director  \\\n",
       "0                           False                      False   \n",
       "1                           False                      False   \n",
       "2                           False                      False   \n",
       "3                           False                      False   \n",
       "4                            True                      False   \n",
       "\n",
       "   JobRole_Research Scientist  JobRole_Sales Executive  \\\n",
       "0                        True                    False   \n",
       "1                       False                     True   \n",
       "2                       False                    False   \n",
       "3                        True                    False   \n",
       "4                       False                    False   \n",
       "\n",
       "   JobRole_Sales Representative  OverTime_Yes  \n",
       "0                         False          True  \n",
       "1                         False         False  \n",
       "2                         False         False  \n",
       "3                         False          True  \n",
       "4                         False         False  "
      ]
     },
     "execution_count": 24,
     "metadata": {},
     "output_type": "execute_result"
    }
   ],
   "source": [
    "# concat the dummy variables with numeric features to create a dataframe of all independent variables\n",
    "# 'axis=1' concats the dataframes along columns\n",
    "X = pd.concat([df_num, dummy_var], axis = 1)\n",
    "\n",
    "# display first five observations\n",
    "X.head()"
   ]
  },
  {
   "cell_type": "markdown",
   "metadata": {
    "id": "978leQjL4BcA"
   },
   "source": [
    "Converting the Age variable into categorical by dividing it in the ranges; 18-30, 31-40, 41-50, 51-60"
   ]
  },
  {
   "cell_type": "code",
   "execution_count": 26,
   "metadata": {
    "id": "Kk_uUWGZu5IN",
    "outputId": "fad2a68f-3c82-4cdf-c684-1b71133f62bb"
   },
   "outputs": [
    {
     "data": {
      "text/html": [
       "<div>\n",
       "<style scoped>\n",
       "    .dataframe tbody tr th:only-of-type {\n",
       "        vertical-align: middle;\n",
       "    }\n",
       "\n",
       "    .dataframe tbody tr th {\n",
       "        vertical-align: top;\n",
       "    }\n",
       "\n",
       "    .dataframe thead th {\n",
       "        text-align: right;\n",
       "    }\n",
       "</style>\n",
       "<table border=\"1\" class=\"dataframe\">\n",
       "  <thead>\n",
       "    <tr style=\"text-align: right;\">\n",
       "      <th></th>\n",
       "      <th>Age</th>\n",
       "      <th>DistanceFromHome</th>\n",
       "      <th>EnvironmentSatisfaction</th>\n",
       "      <th>JobInvolvement</th>\n",
       "      <th>JobLevel</th>\n",
       "      <th>JobSatisfaction</th>\n",
       "      <th>MonthlyIncome</th>\n",
       "      <th>NumCompaniesWorked</th>\n",
       "      <th>PercentSalaryHike</th>\n",
       "      <th>PerformanceRating</th>\n",
       "      <th>YearsAtCompany</th>\n",
       "      <th>BusinessTravel_Travel_Frequently</th>\n",
       "      <th>BusinessTravel_Travel_Rarely</th>\n",
       "      <th>Department_Research &amp; Development</th>\n",
       "      <th>Department_Sales</th>\n",
       "      <th>EducationField_Life Sciences</th>\n",
       "      <th>EducationField_Marketing</th>\n",
       "      <th>EducationField_Medical</th>\n",
       "      <th>EducationField_Other</th>\n",
       "      <th>EducationField_Technical Degree</th>\n",
       "      <th>Gender_Male</th>\n",
       "      <th>JobRole_Human Resources</th>\n",
       "      <th>JobRole_Laboratory Technician</th>\n",
       "      <th>JobRole_Manager</th>\n",
       "      <th>JobRole_Manufacturing Director</th>\n",
       "      <th>JobRole_Research Director</th>\n",
       "      <th>JobRole_Research Scientist</th>\n",
       "      <th>JobRole_Sales Executive</th>\n",
       "      <th>JobRole_Sales Representative</th>\n",
       "      <th>OverTime_Yes</th>\n",
       "    </tr>\n",
       "  </thead>\n",
       "  <tbody>\n",
       "    <tr>\n",
       "      <th>0</th>\n",
       "      <td>A31-40</td>\n",
       "      <td>3</td>\n",
       "      <td>1</td>\n",
       "      <td>3</td>\n",
       "      <td>1</td>\n",
       "      <td>1</td>\n",
       "      <td>3348</td>\n",
       "      <td>1</td>\n",
       "      <td>11</td>\n",
       "      <td>3</td>\n",
       "      <td>10</td>\n",
       "      <td>True</td>\n",
       "      <td>False</td>\n",
       "      <td>True</td>\n",
       "      <td>False</td>\n",
       "      <td>True</td>\n",
       "      <td>False</td>\n",
       "      <td>False</td>\n",
       "      <td>False</td>\n",
       "      <td>False</td>\n",
       "      <td>True</td>\n",
       "      <td>False</td>\n",
       "      <td>False</td>\n",
       "      <td>False</td>\n",
       "      <td>False</td>\n",
       "      <td>False</td>\n",
       "      <td>True</td>\n",
       "      <td>False</td>\n",
       "      <td>False</td>\n",
       "      <td>True</td>\n",
       "    </tr>\n",
       "    <tr>\n",
       "      <th>1</th>\n",
       "      <td>A31-40</td>\n",
       "      <td>4</td>\n",
       "      <td>4</td>\n",
       "      <td>1</td>\n",
       "      <td>3</td>\n",
       "      <td>4</td>\n",
       "      <td>10400</td>\n",
       "      <td>1</td>\n",
       "      <td>11</td>\n",
       "      <td>3</td>\n",
       "      <td>14</td>\n",
       "      <td>False</td>\n",
       "      <td>True</td>\n",
       "      <td>False</td>\n",
       "      <td>True</td>\n",
       "      <td>False</td>\n",
       "      <td>False</td>\n",
       "      <td>True</td>\n",
       "      <td>False</td>\n",
       "      <td>False</td>\n",
       "      <td>True</td>\n",
       "      <td>False</td>\n",
       "      <td>False</td>\n",
       "      <td>False</td>\n",
       "      <td>False</td>\n",
       "      <td>False</td>\n",
       "      <td>False</td>\n",
       "      <td>True</td>\n",
       "      <td>False</td>\n",
       "      <td>False</td>\n",
       "    </tr>\n",
       "    <tr>\n",
       "      <th>2</th>\n",
       "      <td>A31-40</td>\n",
       "      <td>9</td>\n",
       "      <td>4</td>\n",
       "      <td>3</td>\n",
       "      <td>1</td>\n",
       "      <td>1</td>\n",
       "      <td>2018</td>\n",
       "      <td>3</td>\n",
       "      <td>14</td>\n",
       "      <td>3</td>\n",
       "      <td>5</td>\n",
       "      <td>False</td>\n",
       "      <td>True</td>\n",
       "      <td>True</td>\n",
       "      <td>False</td>\n",
       "      <td>True</td>\n",
       "      <td>False</td>\n",
       "      <td>False</td>\n",
       "      <td>False</td>\n",
       "      <td>False</td>\n",
       "      <td>True</td>\n",
       "      <td>False</td>\n",
       "      <td>True</td>\n",
       "      <td>False</td>\n",
       "      <td>False</td>\n",
       "      <td>False</td>\n",
       "      <td>False</td>\n",
       "      <td>False</td>\n",
       "      <td>False</td>\n",
       "      <td>False</td>\n",
       "    </tr>\n",
       "    <tr>\n",
       "      <th>3</th>\n",
       "      <td>A41-50</td>\n",
       "      <td>7</td>\n",
       "      <td>2</td>\n",
       "      <td>4</td>\n",
       "      <td>2</td>\n",
       "      <td>2</td>\n",
       "      <td>2372</td>\n",
       "      <td>6</td>\n",
       "      <td>16</td>\n",
       "      <td>3</td>\n",
       "      <td>1</td>\n",
       "      <td>False</td>\n",
       "      <td>True</td>\n",
       "      <td>True</td>\n",
       "      <td>False</td>\n",
       "      <td>False</td>\n",
       "      <td>False</td>\n",
       "      <td>True</td>\n",
       "      <td>False</td>\n",
       "      <td>False</td>\n",
       "      <td>False</td>\n",
       "      <td>False</td>\n",
       "      <td>False</td>\n",
       "      <td>False</td>\n",
       "      <td>False</td>\n",
       "      <td>False</td>\n",
       "      <td>True</td>\n",
       "      <td>False</td>\n",
       "      <td>False</td>\n",
       "      <td>True</td>\n",
       "    </tr>\n",
       "    <tr>\n",
       "      <th>4</th>\n",
       "      <td>A41-50</td>\n",
       "      <td>27</td>\n",
       "      <td>3</td>\n",
       "      <td>3</td>\n",
       "      <td>3</td>\n",
       "      <td>1</td>\n",
       "      <td>10820</td>\n",
       "      <td>8</td>\n",
       "      <td>11</td>\n",
       "      <td>3</td>\n",
       "      <td>8</td>\n",
       "      <td>True</td>\n",
       "      <td>False</td>\n",
       "      <td>True</td>\n",
       "      <td>False</td>\n",
       "      <td>True</td>\n",
       "      <td>False</td>\n",
       "      <td>False</td>\n",
       "      <td>False</td>\n",
       "      <td>False</td>\n",
       "      <td>False</td>\n",
       "      <td>False</td>\n",
       "      <td>False</td>\n",
       "      <td>False</td>\n",
       "      <td>True</td>\n",
       "      <td>False</td>\n",
       "      <td>False</td>\n",
       "      <td>False</td>\n",
       "      <td>False</td>\n",
       "      <td>False</td>\n",
       "    </tr>\n",
       "  </tbody>\n",
       "</table>\n",
       "</div>"
      ],
      "text/plain": [
       "      Age  DistanceFromHome  EnvironmentSatisfaction  JobInvolvement  \\\n",
       "0  A31-40                 3                        1               3   \n",
       "1  A31-40                 4                        4               1   \n",
       "2  A31-40                 9                        4               3   \n",
       "3  A41-50                 7                        2               4   \n",
       "4  A41-50                27                        3               3   \n",
       "\n",
       "   JobLevel  JobSatisfaction  MonthlyIncome  NumCompaniesWorked  \\\n",
       "0         1                1           3348                   1   \n",
       "1         3                4          10400                   1   \n",
       "2         1                1           2018                   3   \n",
       "3         2                2           2372                   6   \n",
       "4         3                1          10820                   8   \n",
       "\n",
       "   PercentSalaryHike  PerformanceRating  YearsAtCompany  \\\n",
       "0                 11                  3              10   \n",
       "1                 11                  3              14   \n",
       "2                 14                  3               5   \n",
       "3                 16                  3               1   \n",
       "4                 11                  3               8   \n",
       "\n",
       "   BusinessTravel_Travel_Frequently  BusinessTravel_Travel_Rarely  \\\n",
       "0                              True                         False   \n",
       "1                             False                          True   \n",
       "2                             False                          True   \n",
       "3                             False                          True   \n",
       "4                              True                         False   \n",
       "\n",
       "   Department_Research & Development  Department_Sales  \\\n",
       "0                               True             False   \n",
       "1                              False              True   \n",
       "2                               True             False   \n",
       "3                               True             False   \n",
       "4                               True             False   \n",
       "\n",
       "   EducationField_Life Sciences  EducationField_Marketing  \\\n",
       "0                          True                     False   \n",
       "1                         False                     False   \n",
       "2                          True                     False   \n",
       "3                         False                     False   \n",
       "4                          True                     False   \n",
       "\n",
       "   EducationField_Medical  EducationField_Other  \\\n",
       "0                   False                 False   \n",
       "1                    True                 False   \n",
       "2                   False                 False   \n",
       "3                    True                 False   \n",
       "4                   False                 False   \n",
       "\n",
       "   EducationField_Technical Degree  Gender_Male  JobRole_Human Resources  \\\n",
       "0                            False         True                    False   \n",
       "1                            False         True                    False   \n",
       "2                            False         True                    False   \n",
       "3                            False        False                    False   \n",
       "4                            False        False                    False   \n",
       "\n",
       "   JobRole_Laboratory Technician  JobRole_Manager  \\\n",
       "0                          False            False   \n",
       "1                          False            False   \n",
       "2                           True            False   \n",
       "3                          False            False   \n",
       "4                          False            False   \n",
       "\n",
       "   JobRole_Manufacturing Director  JobRole_Research Director  \\\n",
       "0                           False                      False   \n",
       "1                           False                      False   \n",
       "2                           False                      False   \n",
       "3                           False                      False   \n",
       "4                            True                      False   \n",
       "\n",
       "   JobRole_Research Scientist  JobRole_Sales Executive  \\\n",
       "0                        True                    False   \n",
       "1                       False                     True   \n",
       "2                       False                    False   \n",
       "3                        True                    False   \n",
       "4                       False                    False   \n",
       "\n",
       "   JobRole_Sales Representative  OverTime_Yes  \n",
       "0                         False          True  \n",
       "1                         False         False  \n",
       "2                         False         False  \n",
       "3                         False          True  \n",
       "4                         False         False  "
      ]
     },
     "execution_count": 26,
     "metadata": {},
     "output_type": "execute_result"
    }
   ],
   "source": [
    "# iterating a for loop\n",
    "# categorizing the variable 'Age'\n",
    "for i in range(X.shape[0]):\n",
    "    if X.Age[i]>=18 and X.Age[i]<=30:\n",
    "        X.Age[i] = \"A18-30\"\n",
    "    elif(X.Age[i]>=31 and X.Age[i]<=40):\n",
    "        X.Age[i] = \"A31-40\"\n",
    "    elif(X.Age[i]>=41 and X.Age[i]<=50):\n",
    "        X.Age[i] = \"A41-50\"\n",
    "    else:\n",
    "        X.Age[i] = \"A51-60\"\n",
    "\n",
    "X.head()"
   ]
  },
  {
   "cell_type": "markdown",
   "metadata": {
    "id": "At3w3btS4BcA"
   },
   "source": [
    "Dummy encode the categorical variable \"Age\"."
   ]
  },
  {
   "cell_type": "code",
   "execution_count": 28,
   "metadata": {
    "id": "Cc3iQRimu5IP",
    "outputId": "24386a9b-ce55-4c12-b4f5-0a5aee89b393"
   },
   "outputs": [
    {
     "data": {
      "text/html": [
       "<div>\n",
       "<style scoped>\n",
       "    .dataframe tbody tr th:only-of-type {\n",
       "        vertical-align: middle;\n",
       "    }\n",
       "\n",
       "    .dataframe tbody tr th {\n",
       "        vertical-align: top;\n",
       "    }\n",
       "\n",
       "    .dataframe thead th {\n",
       "        text-align: right;\n",
       "    }\n",
       "</style>\n",
       "<table border=\"1\" class=\"dataframe\">\n",
       "  <thead>\n",
       "    <tr style=\"text-align: right;\">\n",
       "      <th></th>\n",
       "      <th>DistanceFromHome</th>\n",
       "      <th>EnvironmentSatisfaction</th>\n",
       "      <th>JobInvolvement</th>\n",
       "      <th>JobLevel</th>\n",
       "      <th>JobSatisfaction</th>\n",
       "      <th>MonthlyIncome</th>\n",
       "      <th>NumCompaniesWorked</th>\n",
       "      <th>PercentSalaryHike</th>\n",
       "      <th>PerformanceRating</th>\n",
       "      <th>YearsAtCompany</th>\n",
       "      <th>BusinessTravel_Travel_Frequently</th>\n",
       "      <th>BusinessTravel_Travel_Rarely</th>\n",
       "      <th>Department_Research &amp; Development</th>\n",
       "      <th>Department_Sales</th>\n",
       "      <th>EducationField_Life Sciences</th>\n",
       "      <th>EducationField_Marketing</th>\n",
       "      <th>EducationField_Medical</th>\n",
       "      <th>EducationField_Other</th>\n",
       "      <th>EducationField_Technical Degree</th>\n",
       "      <th>Gender_Male</th>\n",
       "      <th>JobRole_Human Resources</th>\n",
       "      <th>JobRole_Laboratory Technician</th>\n",
       "      <th>JobRole_Manager</th>\n",
       "      <th>JobRole_Manufacturing Director</th>\n",
       "      <th>JobRole_Research Director</th>\n",
       "      <th>JobRole_Research Scientist</th>\n",
       "      <th>JobRole_Sales Executive</th>\n",
       "      <th>JobRole_Sales Representative</th>\n",
       "      <th>OverTime_Yes</th>\n",
       "      <th>Age_A31-40</th>\n",
       "      <th>Age_A41-50</th>\n",
       "      <th>Age_A51-60</th>\n",
       "    </tr>\n",
       "  </thead>\n",
       "  <tbody>\n",
       "    <tr>\n",
       "      <th>0</th>\n",
       "      <td>3</td>\n",
       "      <td>1</td>\n",
       "      <td>3</td>\n",
       "      <td>1</td>\n",
       "      <td>1</td>\n",
       "      <td>3348</td>\n",
       "      <td>1</td>\n",
       "      <td>11</td>\n",
       "      <td>3</td>\n",
       "      <td>10</td>\n",
       "      <td>True</td>\n",
       "      <td>False</td>\n",
       "      <td>True</td>\n",
       "      <td>False</td>\n",
       "      <td>True</td>\n",
       "      <td>False</td>\n",
       "      <td>False</td>\n",
       "      <td>False</td>\n",
       "      <td>False</td>\n",
       "      <td>True</td>\n",
       "      <td>False</td>\n",
       "      <td>False</td>\n",
       "      <td>False</td>\n",
       "      <td>False</td>\n",
       "      <td>False</td>\n",
       "      <td>True</td>\n",
       "      <td>False</td>\n",
       "      <td>False</td>\n",
       "      <td>True</td>\n",
       "      <td>True</td>\n",
       "      <td>False</td>\n",
       "      <td>False</td>\n",
       "    </tr>\n",
       "    <tr>\n",
       "      <th>1</th>\n",
       "      <td>4</td>\n",
       "      <td>4</td>\n",
       "      <td>1</td>\n",
       "      <td>3</td>\n",
       "      <td>4</td>\n",
       "      <td>10400</td>\n",
       "      <td>1</td>\n",
       "      <td>11</td>\n",
       "      <td>3</td>\n",
       "      <td>14</td>\n",
       "      <td>False</td>\n",
       "      <td>True</td>\n",
       "      <td>False</td>\n",
       "      <td>True</td>\n",
       "      <td>False</td>\n",
       "      <td>False</td>\n",
       "      <td>True</td>\n",
       "      <td>False</td>\n",
       "      <td>False</td>\n",
       "      <td>True</td>\n",
       "      <td>False</td>\n",
       "      <td>False</td>\n",
       "      <td>False</td>\n",
       "      <td>False</td>\n",
       "      <td>False</td>\n",
       "      <td>False</td>\n",
       "      <td>True</td>\n",
       "      <td>False</td>\n",
       "      <td>False</td>\n",
       "      <td>True</td>\n",
       "      <td>False</td>\n",
       "      <td>False</td>\n",
       "    </tr>\n",
       "    <tr>\n",
       "      <th>2</th>\n",
       "      <td>9</td>\n",
       "      <td>4</td>\n",
       "      <td>3</td>\n",
       "      <td>1</td>\n",
       "      <td>1</td>\n",
       "      <td>2018</td>\n",
       "      <td>3</td>\n",
       "      <td>14</td>\n",
       "      <td>3</td>\n",
       "      <td>5</td>\n",
       "      <td>False</td>\n",
       "      <td>True</td>\n",
       "      <td>True</td>\n",
       "      <td>False</td>\n",
       "      <td>True</td>\n",
       "      <td>False</td>\n",
       "      <td>False</td>\n",
       "      <td>False</td>\n",
       "      <td>False</td>\n",
       "      <td>True</td>\n",
       "      <td>False</td>\n",
       "      <td>True</td>\n",
       "      <td>False</td>\n",
       "      <td>False</td>\n",
       "      <td>False</td>\n",
       "      <td>False</td>\n",
       "      <td>False</td>\n",
       "      <td>False</td>\n",
       "      <td>False</td>\n",
       "      <td>True</td>\n",
       "      <td>False</td>\n",
       "      <td>False</td>\n",
       "    </tr>\n",
       "    <tr>\n",
       "      <th>3</th>\n",
       "      <td>7</td>\n",
       "      <td>2</td>\n",
       "      <td>4</td>\n",
       "      <td>2</td>\n",
       "      <td>2</td>\n",
       "      <td>2372</td>\n",
       "      <td>6</td>\n",
       "      <td>16</td>\n",
       "      <td>3</td>\n",
       "      <td>1</td>\n",
       "      <td>False</td>\n",
       "      <td>True</td>\n",
       "      <td>True</td>\n",
       "      <td>False</td>\n",
       "      <td>False</td>\n",
       "      <td>False</td>\n",
       "      <td>True</td>\n",
       "      <td>False</td>\n",
       "      <td>False</td>\n",
       "      <td>False</td>\n",
       "      <td>False</td>\n",
       "      <td>False</td>\n",
       "      <td>False</td>\n",
       "      <td>False</td>\n",
       "      <td>False</td>\n",
       "      <td>True</td>\n",
       "      <td>False</td>\n",
       "      <td>False</td>\n",
       "      <td>True</td>\n",
       "      <td>False</td>\n",
       "      <td>True</td>\n",
       "      <td>False</td>\n",
       "    </tr>\n",
       "    <tr>\n",
       "      <th>4</th>\n",
       "      <td>27</td>\n",
       "      <td>3</td>\n",
       "      <td>3</td>\n",
       "      <td>3</td>\n",
       "      <td>1</td>\n",
       "      <td>10820</td>\n",
       "      <td>8</td>\n",
       "      <td>11</td>\n",
       "      <td>3</td>\n",
       "      <td>8</td>\n",
       "      <td>True</td>\n",
       "      <td>False</td>\n",
       "      <td>True</td>\n",
       "      <td>False</td>\n",
       "      <td>True</td>\n",
       "      <td>False</td>\n",
       "      <td>False</td>\n",
       "      <td>False</td>\n",
       "      <td>False</td>\n",
       "      <td>False</td>\n",
       "      <td>False</td>\n",
       "      <td>False</td>\n",
       "      <td>False</td>\n",
       "      <td>True</td>\n",
       "      <td>False</td>\n",
       "      <td>False</td>\n",
       "      <td>False</td>\n",
       "      <td>False</td>\n",
       "      <td>False</td>\n",
       "      <td>False</td>\n",
       "      <td>True</td>\n",
       "      <td>False</td>\n",
       "    </tr>\n",
       "  </tbody>\n",
       "</table>\n",
       "</div>"
      ],
      "text/plain": [
       "   DistanceFromHome  EnvironmentSatisfaction  JobInvolvement  JobLevel  \\\n",
       "0                 3                        1               3         1   \n",
       "1                 4                        4               1         3   \n",
       "2                 9                        4               3         1   \n",
       "3                 7                        2               4         2   \n",
       "4                27                        3               3         3   \n",
       "\n",
       "   JobSatisfaction  MonthlyIncome  NumCompaniesWorked  PercentSalaryHike  \\\n",
       "0                1           3348                   1                 11   \n",
       "1                4          10400                   1                 11   \n",
       "2                1           2018                   3                 14   \n",
       "3                2           2372                   6                 16   \n",
       "4                1          10820                   8                 11   \n",
       "\n",
       "   PerformanceRating  YearsAtCompany  BusinessTravel_Travel_Frequently  \\\n",
       "0                  3              10                              True   \n",
       "1                  3              14                             False   \n",
       "2                  3               5                             False   \n",
       "3                  3               1                             False   \n",
       "4                  3               8                              True   \n",
       "\n",
       "   BusinessTravel_Travel_Rarely  Department_Research & Development  \\\n",
       "0                         False                               True   \n",
       "1                          True                              False   \n",
       "2                          True                               True   \n",
       "3                          True                               True   \n",
       "4                         False                               True   \n",
       "\n",
       "   Department_Sales  EducationField_Life Sciences  EducationField_Marketing  \\\n",
       "0             False                          True                     False   \n",
       "1              True                         False                     False   \n",
       "2             False                          True                     False   \n",
       "3             False                         False                     False   \n",
       "4             False                          True                     False   \n",
       "\n",
       "   EducationField_Medical  EducationField_Other  \\\n",
       "0                   False                 False   \n",
       "1                    True                 False   \n",
       "2                   False                 False   \n",
       "3                    True                 False   \n",
       "4                   False                 False   \n",
       "\n",
       "   EducationField_Technical Degree  Gender_Male  JobRole_Human Resources  \\\n",
       "0                            False         True                    False   \n",
       "1                            False         True                    False   \n",
       "2                            False         True                    False   \n",
       "3                            False        False                    False   \n",
       "4                            False        False                    False   \n",
       "\n",
       "   JobRole_Laboratory Technician  JobRole_Manager  \\\n",
       "0                          False            False   \n",
       "1                          False            False   \n",
       "2                           True            False   \n",
       "3                          False            False   \n",
       "4                          False            False   \n",
       "\n",
       "   JobRole_Manufacturing Director  JobRole_Research Director  \\\n",
       "0                           False                      False   \n",
       "1                           False                      False   \n",
       "2                           False                      False   \n",
       "3                           False                      False   \n",
       "4                            True                      False   \n",
       "\n",
       "   JobRole_Research Scientist  JobRole_Sales Executive  \\\n",
       "0                        True                    False   \n",
       "1                       False                     True   \n",
       "2                       False                    False   \n",
       "3                        True                    False   \n",
       "4                       False                    False   \n",
       "\n",
       "   JobRole_Sales Representative  OverTime_Yes  Age_A31-40  Age_A41-50  \\\n",
       "0                         False          True        True       False   \n",
       "1                         False         False        True       False   \n",
       "2                         False         False        True       False   \n",
       "3                         False          True       False        True   \n",
       "4                         False         False       False        True   \n",
       "\n",
       "   Age_A51-60  \n",
       "0       False  \n",
       "1       False  \n",
       "2       False  \n",
       "3       False  \n",
       "4       False  "
      ]
     },
     "execution_count": 28,
     "metadata": {},
     "output_type": "execute_result"
    }
   ],
   "source": [
    "# use 'get_dummies' from pandas to create dummy variables\n",
    "# use 'drop_first' to create (n-1) dummy variables\n",
    "X = pd.get_dummies(data = X, drop_first = True)\n",
    "X.head()"
   ]
  },
  {
   "cell_type": "markdown",
   "metadata": {
    "id": "onA1rDxV4BcB"
   },
   "source": [
    "### Let's begin with some hands-on practice exercises"
   ]
  },
  {
   "cell_type": "markdown",
   "metadata": {
    "id": "rYXMEmm14BcB"
   },
   "source": [
    "<table align=\"left\">\n",
    "    <tr>\n",
    "        <td width=\"6%\">\n",
    "            <img src=\"question_icon.png\">\n",
    "        </td>\n",
    "        <td>\n",
    "            <div align=\"left\", style=\"font-size:120%\">\n",
    "                <font color=\"#21618C\">\n",
    "                        <b>1. Split the data into test and train(80-20 split), using random_state=1. What are the lengths of the train and test datasets?</b>\n",
    "                </font>\n",
    "            </div>\n",
    "        </td>\n",
    "    </tr>\n",
    "</table>"
   ]
  },
  {
   "cell_type": "code",
   "execution_count": 31,
   "metadata": {
    "id": "HDpT5Ziv4BcC"
   },
   "outputs": [
    {
     "name": "stdout",
     "output_type": "stream",
     "text": [
      "1264\n",
      "316\n"
     ]
    }
   ],
   "source": [
    "# type your code here\n",
    "xtrain,xtest,ytrain,ytest=train_test_split(X,df_target,test_size=0.2,random_state=1)\n",
    "print(len(xtrain))\n",
    "print(len(xtest))"
   ]
  },
  {
   "cell_type": "markdown",
   "metadata": {
    "id": "21zSG9aDu5IV"
   },
   "source": [
    "<a id=\"gb\"> </a>\n",
    "## 2. Gradient Boosting"
   ]
  },
  {
   "cell_type": "markdown",
   "metadata": {
    "collapsed": true,
    "id": "9Q-cPL1_u5IV",
    "jupyter": {
     "outputs_hidden": true
    }
   },
   "source": [
    "<table align=\"left\">\n",
    "    <tr>\n",
    "        <td width=\"6%\">\n",
    "            <img src=\"question_icon.png\">\n",
    "        </td>\n",
    "        <td>\n",
    "            <div align=\"left\", style=\"font-size:120%\">\n",
    "                <font color=\"#21618C\">\n",
    "                        <b>2. Build the gradient boosting model 100 estimators and maximum depth 3. Also, find the accuracy score. Use the test-train data from Question1 and random_state=1</b>\n",
    "                </font>\n",
    "            </div>\n",
    "        </td>\n",
    "    </tr>\n",
    "</table>"
   ]
  },
  {
   "cell_type": "code",
   "execution_count": 34,
   "metadata": {
    "id": "nHrhQ-Ve4BcC"
   },
   "outputs": [],
   "source": [
    "# type your code here\n",
    "from sklearn.ensemble import GradientBoostingClassifier\n",
    "gbcl = GradientBoostingClassifier(n_estimators=100,max_depth=3,random_state=1)\n",
    "gbcl.fit(xtrain,ytrain)\n",
    "ypred_gbcl=gbcl.predict(xtest)"
   ]
  },
  {
   "cell_type": "code",
   "execution_count": 35,
   "metadata": {},
   "outputs": [
    {
     "name": "stdout",
     "output_type": "stream",
     "text": [
      "Training Accuracy: 0.9248417721518988\n",
      "Test Accuracy: 0.8639240506329114\n",
      "0.8639240506329114\n"
     ]
    }
   ],
   "source": [
    "print('Training Accuracy:',gbcl.score(xtrain,ytrain))\n",
    "print('Test Accuracy:',gbcl.score(xtest,ytest))\n",
    "print(accuracy_score(ytest,ypred_gbcl))"
   ]
  },
  {
   "cell_type": "markdown",
   "metadata": {
    "collapsed": true,
    "id": "nnXjsLhyu5IX",
    "jupyter": {
     "outputs_hidden": true
    }
   },
   "source": [
    "<table align=\"left\">\n",
    "    <tr>\n",
    "        <td width=\"6%\">\n",
    "            <img src=\"question_icon.png\">\n",
    "        </td>\n",
    "        <td>\n",
    "            <div align=\"left\", style=\"font-size:120%\">\n",
    "                <font color=\"#21618C\">\n",
    "                        <b>3. Find the best value of hyperparameters \"n_estimators\", \"learning_rate\" and \"max_depth\" for the gradient boosting full model(Using Grid Search and 5 fold CV). Use the test-train data from Question1 and random_state=1</b>\n",
    "                </font>\n",
    "            </div>\n",
    "        </td>\n",
    "    </tr>\n",
    "</table>"
   ]
  },
  {
   "cell_type": "markdown",
   "metadata": {
    "id": "4-eQROyDu5IY"
   },
   "source": [
    "Given list of values:\n",
    "\n",
    "        n_estimators = [100, 120, 150, 200, 250, 300, 350],\n",
    "        learning_rate = [0.1, 0.01, 0.001, 0.15, 0.015],\n",
    "        max_depth = [2, 3, 4, 5, 6]"
   ]
  },
  {
   "cell_type": "code",
   "execution_count": 38,
   "metadata": {
    "id": "i55qZLGM4BcD"
   },
   "outputs": [
    {
     "name": "stdout",
     "output_type": "stream",
     "text": [
      "Best parameters: {'learning_rate': 0.05, 'max_depth': 5, 'n_estimators': 200}\n",
      "Best score: 0.9375149005583788\n"
     ]
    }
   ],
   "source": [
    "# type your code here\n",
    "from sklearn.ensemble import GradientBoostingClassifier\n",
    "from sklearn.model_selection import GridSearchCV\n",
    "\n",
    "# Create the Gradient Boosting classifier\n",
    "gbm = GradientBoostingClassifier(random_state=1)\n",
    "\n",
    "# Define the parameter grid\n",
    "param_grid = {\n",
    "    'n_estimators': [100, 200, 300],\n",
    "    'learning_rate': [0.1, 0.05, 0.01],\n",
    "    'max_depth': [3, 4, 5]\n",
    "}\n",
    "\n",
    "# Create the GridSearchCV object\n",
    "grid_search = GridSearchCV(gbm, param_grid, cv=5)\n",
    "\n",
    "# Fit the GridSearchCV object to the training data\n",
    "grid_search.fit(xtrain, ytrain)\n",
    "\n",
    "# Print the best parameters and score\n",
    "print(\"Best parameters:\", grid_search.best_params_)\n",
    "print(\"Best score:\", grid_search.best_score_)\n"
   ]
  },
  {
   "cell_type": "markdown",
   "metadata": {
    "id": "2ChgKvV94BcD"
   },
   "source": [
    "<table align=\"left\">\n",
    "    <tr>\n",
    "        <td width=\"6%\">\n",
    "            <img src=\"question_icon.png\">\n",
    "        </td>\n",
    "        <td>\n",
    "            <div align=\"left\", style=\"font-size:120%\">\n",
    "                <font color=\"#21618C\">\n",
    "                    <b>4. Build the GB model using the tuned parameters from Question3 and calculate the accuracy score. Use the test-train data from Question1 and random_state=1</b>\n",
    "                </font>\n",
    "            </div>\n",
    "        </td>\n",
    "    </tr>\n",
    "</table>"
   ]
  },
  {
   "cell_type": "code",
   "execution_count": 40,
   "metadata": {
    "id": "YmiuBQqG4BcE"
   },
   "outputs": [
    {
     "name": "stdout",
     "output_type": "stream",
     "text": [
      "0.8639240506329114\n"
     ]
    }
   ],
   "source": [
    "# type your code here\n",
    "from sklearn.ensemble import GradientBoostingClassifier \n",
    "gbcl2 = GradientBoostingClassifier(learning_rate=0.05,max_depth=5,n_estimators=200,random_state=1)\n",
    "gbcl2.fit(xtrain,ytrain)\n",
    "ypred_gbcl2=gbcl.predict(xtest)\n",
    "print(accuracy_score(ytest,ypred_gbcl2))"
   ]
  },
  {
   "cell_type": "markdown",
   "metadata": {
    "collapsed": true,
    "id": "4Dhjs-6Xu5IZ",
    "jupyter": {
     "outputs_hidden": true
    }
   },
   "source": [
    "<table align=\"left\">\n",
    "    <tr>\n",
    "        <td width=\"6%\">\n",
    "            <img src=\"question_icon.png\">\n",
    "        </td>\n",
    "        <td>\n",
    "            <div align=\"left\", style=\"font-size:120%\">\n",
    "                <font color=\"#21618C\">\n",
    "                    <b>5. Plot the area under the receiver operating characteristic curve for tuned gradient boosting model built in Question4. Also plot a confusion matrix.</b>\n",
    "                </font>\n",
    "            </div>\n",
    "        </td>\n",
    "    </tr>\n",
    "</table>"
   ]
  },
  {
   "cell_type": "code",
   "execution_count": 42,
   "metadata": {
    "id": "GE-eU8xE4BcE"
   },
   "outputs": [
    {
     "name": "stdout",
     "output_type": "stream",
     "text": [
      "0.9633405374546343\n"
     ]
    },
    {
     "data": {
      "image/png": "[encoded data removed]",
      "text/plain": [
       "<Figure size 1500x800 with 1 Axes>"
      ]
     },
     "metadata": {},
     "output_type": "display_data"
    }
   ],
   "source": [
    "# type your code here\n",
    "from sklearn.metrics import roc_auc_score,roc_curve\n",
    "\n",
    "y_pred_prob_gnb = gbcl2.predict_proba(xtest)[:,1] #,1 means 1st column all values\n",
    "\n",
    "fpr,tpr,threshholds=roc_curve(ytest,y_pred_prob_gnb)\n",
    "\n",
    "plt.plot(fpr,tpr)\n",
    "plt.xlabel('False Positive Rate (1-Specifictiy)', fontsize=15)\n",
    "plt.ylabel('True Positive Rate (Sensitivity)',fontsize=15)\n",
    "plt.plot([0,1],[0,1],'r--')\n",
    "print(roc_auc_score(ytest,y_pred_prob_gnb))"
   ]
  },
  {
   "cell_type": "markdown",
   "metadata": {
    "id": "lDu-zKR2u5Ia"
   },
   "source": [
    "<a id=\"xgb\"> </a>\n",
    "## 3. Extreme Gradient Boosting (XGBoost)"
   ]
  },
  {
   "cell_type": "markdown",
   "metadata": {
    "id": "Pim7QtyNu5Ia"
   },
   "source": [
    "<table align=\"left\">\n",
    "    <tr>\n",
    "        <td width=\"6%\">\n",
    "            <img src=\"question_icon.png\">\n",
    "        </td>\n",
    "        <td>\n",
    "            <div align=\"left\", style=\"font-size:120%\">\n",
    "                <font color=\"#21618C\">\n",
    "                    <b>6. Build the XGBoost model with a learning rate of 0.01 and gamma equal to 2. Calculate the roc_auc score and generate a classification report. Use the test-train data from Question1 and random_state=1\n",
    "                    </b>\n",
    "                </font>\n",
    "            </div>\n",
    "        </td>\n",
    "    </tr>\n",
    "</table>"
   ]
  },
  {
   "cell_type": "code",
   "execution_count": 45,
   "metadata": {
    "id": "duj3_tYc4BcL"
   },
   "outputs": [
    {
     "name": "stdout",
     "output_type": "stream",
     "text": [
      "              precision    recall  f1-score   support\n",
      "\n",
      "           0       0.83      0.85      0.84       179\n",
      "           1       0.80      0.77      0.78       137\n",
      "\n",
      "    accuracy                           0.82       316\n",
      "   macro avg       0.81      0.81      0.81       316\n",
      "weighted avg       0.82      0.82      0.82       316\n",
      "\n",
      "0.8105859805080945\n"
     ]
    },
    {
     "data": {
      "image/png": "[encoded data removed]",
      "text/plain": [
       "<Figure size 1500x800 with 1 Axes>"
      ]
     },
     "metadata": {},
     "output_type": "display_data"
    }
   ],
   "source": [
    "# type your code here\n",
    "xgb_model = XGBClassifier(learning_rate='0.01',gamma='2')\n",
    "xgb_model.fit(xtrain,ytrain)\n",
    "ypred_xgb=xgb_model.predict(xtest)\n",
    "print(classification_report(ytest,ypred_xgb))\n",
    "\n",
    "from sklearn.metrics import roc_auc_score,roc_curve\n",
    "\n",
    "y_pred_prob_xgb = xgb_model.predict_proba(xtest)[:,1] #,1 means 1st column all values\n",
    "y_pred_xgb=xgb_model.predict(xtest)\n",
    "fpr,tpr,threshholds=roc_curve(ytest,y_pred_prob_xgb)\n",
    "\n",
    "plt.plot(fpr,tpr)\n",
    "plt.xlabel('False Positive Rate (1-Specifictiy)', fontsize=15)\n",
    "plt.ylabel('True Positive Rate (Sensitivity)',fontsize=15)\n",
    "plt.plot([0,1],[0,1],'r--')\n",
    "print(roc_auc_score(ytest,y_pred_xgb))"
   ]
  },
  {
   "cell_type": "markdown",
   "metadata": {
    "collapsed": true,
    "id": "65nL8EmIu5Ia",
    "jupyter": {
     "outputs_hidden": true
    }
   },
   "source": [
    "<table align=\"left\">\n",
    "    <tr>\n",
    "        <td width=\"6%\">\n",
    "            <img src=\"question_icon.png\">\n",
    "        </td>\n",
    "        <td>\n",
    "            <div align=\"left\", style=\"font-size:120%\">\n",
    "                <font color=\"#21618C\">\n",
    "                        <b>7. Find the best value of hyperparameters \"n_estimators\", \"learning_rate\", \"gamma\" and \"max_depth\" for the extreme gradient boosting full model(using Grid Search and 5 fold CV). Use the test-train data from Question1 and random_state=1</b>\n",
    "                </font>\n",
    "            </div>\n",
    "        </td>\n",
    "    </tr>\n",
    "</table>"
   ]
  },
  {
   "cell_type": "markdown",
   "metadata": {
    "id": "FoRPy3jzu5Ia"
   },
   "source": [
    "Given list of values:\n",
    "\n",
    "        n_estimators = [100, 120, 150],\n",
    "        learning_rate = [0.1, 0.01, 0.001, 0.15, 0.015],\n",
    "        gamma = [2, 3, 4, 5, 6],\n",
    "        max_depth = [2, 3, 4, 5, 6]"
   ]
  },
  {
   "cell_type": "code",
   "execution_count": 79,
   "metadata": {
    "id": "B8PFIISD4BcL"
   },
   "outputs": [
    {
     "name": "stdout",
     "output_type": "stream",
     "text": [
      "Best parameters: {'gamma': 2, 'learning_rate': 0.15, 'max_depth': 6, 'n_estimators': 100}\n",
      "Best score: 0.8718301022648849\n"
     ]
    }
   ],
   "source": [
    "\n",
    "\n",
    "\n",
    "param_grid = { 'n_estimators' :[100, 120, 150],\n",
    "    'learning_rate' :[0.1, 0.01, 0.001, 0.15, 0.015],\n",
    "    'gamma' : [2, 3, 4, 5, 6],\n",
    "    'max_depth' : [2, 3, 4, 5, 6]}\n",
    "\n",
    "\n",
    "grid_search = GridSearchCV(xgb_model, param_grid, cv=5)\n",
    "\n",
    "\n",
    "grid_search.fit(xtrain, ytrain)\n",
    "\n",
    "# Print the best parameters and score\n",
    "print(\"Best parameters:\", grid_search.best_params_)\n",
    "print(\"Best score:\", grid_search.best_score_)\n",
    "\n"
   ]
  },
  {
   "cell_type": "markdown",
   "metadata": {
    "id": "4Vn4EWVR4BcL"
   },
   "source": [
    "<table align=\"left\">\n",
    "    <tr>\n",
    "        <td width=\"6%\">\n",
    "            <img src=\"question_icon.png\">\n",
    "        </td>\n",
    "        <td>\n",
    "            <div align=\"left\", style=\"font-size:120%\">\n",
    "                <font color=\"#21618C\">\n",
    "                        <b>8. Build the XGB model using the tuned parameters obtained in Question7. Calculate the roc_auc score and generate a classification report. Use the test-train data from Question1 and random_state=1</b>\n",
    "                </font>\n",
    "            </div>\n",
    "        </td>\n",
    "    </tr>\n",
    "</table>"
   ]
  },
  {
   "cell_type": "code",
   "execution_count": 50,
   "metadata": {
    "id": "zbMWn3uE4BcL",
    "scrolled": true
   },
   "outputs": [
    {
     "name": "stdout",
     "output_type": "stream",
     "text": [
      "              precision    recall  f1-score   support\n",
      "\n",
      "           0       0.83      0.85      0.84       179\n",
      "           1       0.80      0.77      0.78       137\n",
      "\n",
      "    accuracy                           0.82       316\n",
      "   macro avg       0.81      0.81      0.81       316\n",
      "weighted avg       0.82      0.82      0.82       316\n",
      "\n"
     ]
    }
   ],
   "source": [
    "# type your code here\n",
    "xgb_model2 = XGBClassifier(learning_rate='0.05',gamma='2',max_depth='5',n_estimators=100)\n",
    "xgb_model2.fit(xtrain,ytrain)\n",
    "ypred_xgb2=xgb_model.predict(xtest)\n",
    "print(classification_report(ytest,ypred_xgb2))\n",
    "\n"
   ]
  },
  {
   "cell_type": "markdown",
   "metadata": {
    "collapsed": true,
    "id": "pnPIRucKu5Ib",
    "jupyter": {
     "outputs_hidden": true
    }
   },
   "source": [
    "<table align=\"left\">\n",
    "    <tr>\n",
    "        <td width=\"6%\">\n",
    "            <img src=\"question_icon.png\">\n",
    "        </td>\n",
    "        <td>\n",
    "            <div align=\"left\", style=\"font-size:120%\">\n",
    "                <font color=\"#21618C\">\n",
    "                        <b>9. Plot the connfusion matrix and the area under the receiver operating characteristic curve for tuned extreme gradient boosting model built in Question8.</b>\n",
    "                </font>\n",
    "            </div>\n",
    "        </td>\n",
    "    </tr>\n",
    "</table>"
   ]
  },
  {
   "cell_type": "code",
   "execution_count": 52,
   "metadata": {},
   "outputs": [
    {
     "data": {
      "text/plain": [
       "array([[153,  26],\n",
       "       [ 32, 105]], dtype=int64)"
      ]
     },
     "execution_count": 52,
     "metadata": {},
     "output_type": "execute_result"
    }
   ],
   "source": [
    "cm = confusion_matrix(ytest,y_pred_xgb)\n",
    "cm"
   ]
  }
 ],
 "metadata": {
  "colab": {
   "provenance": []
  },
  "kernelspec": {
   "display_name": "Python 3 (ipykernel)",
   "language": "python",
   "name": "python3"
  },
  "language_info": {
   "codemirror_mode": {
    "name": "ipython",
    "version": 3
   },
   "file_extension": ".py",
   "mimetype": "text/x-python",
   "name": "python",
   "nbconvert_exporter": "python",
   "pygments_lexer": "ipython3",
   "version": "3.11.7"
  }
 },
 "nbformat": 4,
 "nbformat_minor": 4
}

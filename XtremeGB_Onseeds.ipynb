{
 "cells": [
  {
   "cell_type": "markdown",
   "metadata": {
    "id": "XxYwCCijwH_b"
   },
   "source": [
    "#### Import the required libraries"
   ]
  },
  {
   "cell_type": "code",
   "execution_count": 1,
   "metadata": {
    "id": "xsksmZ8awH_c"
   },
   "outputs": [
    {
     "name": "stdout",
     "output_type": "stream",
     "text": [
      "Requirement already satisfied: xgboost in c:\\users\\kavin\\anaconda3\\lib\\site-packages (2.1.1)\n",
      "Requirement already satisfied: numpy in c:\\users\\kavin\\anaconda3\\lib\\site-packages (from xgboost) (1.26.4)\n",
      "Requirement already satisfied: scipy in c:\\users\\kavin\\anaconda3\\lib\\site-packages (from xgboost) (1.11.4)\n"
     ]
    }
   ],
   "source": [
    "# import 'Pandas' \n",
    "import pandas as pd \n",
    "\n",
    "# import 'Numpy' \n",
    "import numpy as np\n",
    "\n",
    "# import subpackage of Matplotlib\n",
    "import matplotlib.pyplot as plt\n",
    "from matplotlib.colors import ListedColormap\n",
    "\n",
    "# import 'Seaborn' \n",
    "import seaborn as sns\n",
    "\n",
    "# to suppress warnings \n",
    "from warnings import filterwarnings\n",
    "filterwarnings('ignore')\n",
    "\n",
    "# display all columns of the dataframe\n",
    "pd.options.display.max_columns = None\n",
    "\n",
    "# display all rows of the dataframe\n",
    "pd.options.display.max_rows = None\n",
    "\n",
    "# import train-test split \n",
    "from sklearn.model_selection import train_test_split\n",
    "\n",
    "# import StandardScaler to perform scaling\n",
    "from sklearn.preprocessing import StandardScaler \n",
    "\n",
    "# import various functions from sklearn \n",
    "from sklearn.metrics import confusion_matrix\n",
    "from sklearn.metrics import roc_curve\n",
    "from sklearn.metrics import roc_auc_score\n",
    "from sklearn.metrics import accuracy_score\n",
    "from sklearn.ensemble import GradientBoostingClassifier\n",
    "from sklearn.model_selection import GridSearchCV\n",
    "\n",
    "# import the XGBoost function for classification\n",
    "!pip install xgboost\n",
    "from xgboost import XGBClassifier"
   ]
  },
  {
   "cell_type": "code",
   "execution_count": 3,
   "metadata": {
    "id": "m2WL9VEhwH_d"
   },
   "outputs": [],
   "source": [
    "# set the plot size using 'rcParams'\n",
    "# once the plot size is set using 'rcParams', it sets the size of all the forthcoming plots in the file\n",
    "# pass width and height in inches to 'figure.figsize' \n",
    "plt.rcParams['figure.figsize'] = [15,8]"
   ]
  },
  {
   "cell_type": "markdown",
   "metadata": {
    "id": "6lnIG4nWwH_d"
   },
   "source": [
    "#### Reading and processing the data\n",
    "\n",
    "Load the csv file and print the first five observations."
   ]
  },
  {
   "cell_type": "code",
   "execution_count": 5,
   "metadata": {
    "id": "ZjDP098SwH_d",
    "outputId": "0f61ea31-836d-4fc6-c69c-282179e64677"
   },
   "outputs": [
    {
     "data": {
      "text/html": [
       "<div>\n",
       "<style scoped>\n",
       "    .dataframe tbody tr th:only-of-type {\n",
       "        vertical-align: middle;\n",
       "    }\n",
       "\n",
       "    .dataframe tbody tr th {\n",
       "        vertical-align: top;\n",
       "    }\n",
       "\n",
       "    .dataframe thead th {\n",
       "        text-align: right;\n",
       "    }\n",
       "</style>\n",
       "<table border=\"1\" class=\"dataframe\">\n",
       "  <thead>\n",
       "    <tr style=\"text-align: right;\">\n",
       "      <th></th>\n",
       "      <th>Area</th>\n",
       "      <th>Perimeter</th>\n",
       "      <th>Kernel_len</th>\n",
       "      <th>Kernel_width</th>\n",
       "      <th>Kernelgroove_len</th>\n",
       "      <th>Type</th>\n",
       "    </tr>\n",
       "  </thead>\n",
       "  <tbody>\n",
       "    <tr>\n",
       "      <th>0</th>\n",
       "      <td>12.76</td>\n",
       "      <td>13.38</td>\n",
       "      <td>5.073</td>\n",
       "      <td>3.155</td>\n",
       "      <td>4.830</td>\n",
       "      <td>0.0</td>\n",
       "    </tr>\n",
       "    <tr>\n",
       "      <th>1</th>\n",
       "      <td>12.13</td>\n",
       "      <td>13.73</td>\n",
       "      <td>5.394</td>\n",
       "      <td>3.745</td>\n",
       "      <td>5.220</td>\n",
       "      <td>0.0</td>\n",
       "    </tr>\n",
       "    <tr>\n",
       "      <th>2</th>\n",
       "      <td>14.86</td>\n",
       "      <td>14.67</td>\n",
       "      <td>NaN</td>\n",
       "      <td>3.258</td>\n",
       "      <td>5.351</td>\n",
       "      <td>0.0</td>\n",
       "    </tr>\n",
       "    <tr>\n",
       "      <th>3</th>\n",
       "      <td>15.69</td>\n",
       "      <td>14.75</td>\n",
       "      <td>5.527</td>\n",
       "      <td>3.514</td>\n",
       "      <td>5.046</td>\n",
       "      <td>0.0</td>\n",
       "    </tr>\n",
       "    <tr>\n",
       "      <th>4</th>\n",
       "      <td>19.94</td>\n",
       "      <td>16.92</td>\n",
       "      <td>6.675</td>\n",
       "      <td>3.763</td>\n",
       "      <td>6.550</td>\n",
       "      <td>1.0</td>\n",
       "    </tr>\n",
       "  </tbody>\n",
       "</table>\n",
       "</div>"
      ],
      "text/plain": [
       "    Area  Perimeter  Kernel_len  Kernel_width  Kernelgroove_len  Type\n",
       "0  12.76      13.38       5.073         3.155             4.830   0.0\n",
       "1  12.13      13.73       5.394         3.745             5.220   0.0\n",
       "2  14.86      14.67         NaN         3.258             5.351   0.0\n",
       "3  15.69      14.75       5.527         3.514             5.046   0.0\n",
       "4  19.94      16.92       6.675         3.763             6.550   1.0"
      ]
     },
     "execution_count": 5,
     "metadata": {},
     "output_type": "execute_result"
    }
   ],
   "source": [
    "# read the data\n",
    "df_seed = pd.read_csv('seedtype_data.csv')\n",
    "\n",
    "# display the first five rows of the data\n",
    "df_seed.head()"
   ]
  },
  {
   "cell_type": "markdown",
   "metadata": {
    "id": "GSFpxtymwH_e"
   },
   "source": [
    "**The data definition is as follows:** <br>\n",
    "\n",
    "**Area**: Area of the wheat kernel \n",
    "\n",
    "**Perimeter**: Perimeter of the wheat kernel\n",
    "\n",
    "**Kernel_len**: Length of the wheat kernel\n",
    "\n",
    "**Kernel_width**: Width of the wheat kernel\n",
    "\n",
    "**Kernelgroove_len**: Length of the wheat kernel groove\n",
    "\n",
    "**Type**: Type of the wheat seed (0 = Kama Wheat, 1 = Rosa Wheat) (target/dependent variable)"
   ]
  },
  {
   "cell_type": "markdown",
   "metadata": {
    "id": "Jjv4yfyywH_e"
   },
   "source": [
    "Our objective is to predict whether the wheat seed is of Kama or Rosa type."
   ]
  },
  {
   "cell_type": "markdown",
   "metadata": {},
   "source": [
    "Handling rows with no records"
   ]
  },
  {
   "cell_type": "code",
   "execution_count": 7,
   "metadata": {
    "id": "t6hbVrpBwH_f",
    "outputId": "4d81ee34-4936-4ff3-a803-21db4129dccd"
   },
   "outputs": [
    {
     "data": {
      "text/plain": [
       "[8, 30, 197]"
      ]
     },
     "execution_count": 7,
     "metadata": {},
     "output_type": "execute_result"
    }
   ],
   "source": [
    "# isna() returns the boolean output\n",
    "na_data = df_seed.isna() \n",
    "\n",
    "# seperate the indicating values for each record \n",
    "# all() returns whether all elements are True over the given axis \n",
    "df_null = na_data.all(axis='columns') == True\n",
    "\n",
    "# obtain a list of all records where indicating value is true \n",
    "df_null.index[df_null == True].tolist()"
   ]
  },
  {
   "cell_type": "markdown",
   "metadata": {
    "id": "SYpry1ahwH_f"
   },
   "source": [
    "The above output shows that there are 3 null rows in the data. Use the obtained list of indices to eliminate the empty records from the data. "
   ]
  },
  {
   "cell_type": "code",
   "execution_count": 9,
   "metadata": {
    "id": "4gI7vh-PwH_g",
    "outputId": "5ba38016-4760-4fb6-a945-df5051f3c4f0"
   },
   "outputs": [
    {
     "data": {
      "text/plain": [
       "(199, 6)"
      ]
     },
     "execution_count": 9,
     "metadata": {},
     "output_type": "execute_result"
    }
   ],
   "source": [
    "# use 'dropna()' to drop the empty rows from the dataframe\n",
    "# 'axis = 0' represents the row\n",
    "# 'how = all' drops the row with all the null entries \n",
    "df_seed = df_seed.dropna(axis = 0, how = 'all')\n",
    "\n",
    "# check the dimensions of the data after removing the empty rows\n",
    "df_seed.shape"
   ]
  },
  {
   "cell_type": "markdown",
   "metadata": {},
   "source": [
    "Identifying missing data using visualization"
   ]
  },
  {
   "cell_type": "code",
   "execution_count": 11,
   "metadata": {
    "id": "mmBOUHJ7wH_g",
    "outputId": "6d0a2b54-8765-4238-b48b-228d0de32dc7"
   },
   "outputs": [
    {
     "data": {
      "image/png": "[encoded data removed]",
      "text/plain": [
       "<Figure size 1500x800 with 1 Axes>"
      ]
     },
     "metadata": {},
     "output_type": "display_data"
    }
   ],
   "source": [
    "# plot a heatmap for the missing values in the data\n",
    "# cbar: specify whether to display the color bar or not\n",
    "sns.heatmap(df_seed.isnull(), cbar = False)\n",
    "\n",
    "# display the plot\n",
    "plt.show()"
   ]
  },
  {
   "cell_type": "markdown",
   "metadata": {},
   "source": [
    "Handling missing data in the variable representing thr length of a wheat kernel"
   ]
  },
  {
   "cell_type": "code",
   "execution_count": 13,
   "metadata": {
    "id": "yiHr_M5owH_h",
    "outputId": "44dc6e0d-adff-40a3-a6d0-25a65837b984"
   },
   "outputs": [
    {
     "name": "stdout",
     "output_type": "stream",
     "text": [
      "Null values in the original variable: 6\n"
     ]
    },
    {
     "data": {
      "text/plain": [
       "count    193.000000\n",
       "mean       5.651036\n",
       "std        0.445302\n",
       "min        4.899000\n",
       "25%        5.267000\n",
       "50%        5.554000\n",
       "75%        6.006000\n",
       "max        6.675000\n",
       "Name: Kernel_len, dtype: float64"
      ]
     },
     "execution_count": 13,
     "metadata": {},
     "output_type": "execute_result"
    }
   ],
   "source": [
    "# check the number of null values in the variable 'Kernel_len'\n",
    "# the 'isnull()' returns the boolean output for the presence of missing value\n",
    "# the 'sum()' returns the total number of missing values in the variable\n",
    "print('Null values in the original variable:', df_seed['Kernel_len'].isnull().sum())\n",
    "\n",
    "# check the statistical summary of the variable 'Kernel_len'\n",
    "df_seed['Kernel_len'].describe()"
   ]
  },
  {
   "cell_type": "code",
   "execution_count": 15,
   "metadata": {
    "id": "NV0GeGvewH_h",
    "outputId": "da411b29-af43-4f89-d6d9-5926e9e95a89"
   },
   "outputs": [
    {
     "name": "stdout",
     "output_type": "stream",
     "text": [
      "Null values after replacement: 0\n"
     ]
    }
   ],
   "source": [
    "# replace the missing data with mean value \n",
    "# use 'fillna()' to fill the missing data\n",
    "df_seed['Kernel_len'] = df_seed['Kernel_len'].fillna(df_seed['Kernel_len'].mean())\n",
    "\n",
    "# check the number of null values after replacing the values\n",
    "# the 'isnull()' returns the boolean output for the presence of missing value\n",
    "# the 'sum()' returns the total number of missing values in the variable\n",
    "print(\"Null values after replacement:\", df_seed['Kernel_len'].isnull().sum())"
   ]
  },
  {
   "cell_type": "markdown",
   "metadata": {
    "id": "ZDC9GOfDwH_i"
   },
   "source": [
    "Split the dependent and independent variables."
   ]
  },
  {
   "cell_type": "code",
   "execution_count": 17,
   "metadata": {
    "id": "NF29c4QxwH_i"
   },
   "outputs": [],
   "source": [
    "# split the target and independent variables\n",
    "# store all the independent variables in a dataframe 'df_feature' \n",
    "# drop the column 'Type' using drop()\n",
    "# 'axis = 1' drops the specified column\n",
    "df_feature = df_seed.drop('Type', axis = 1)\n",
    "\n",
    "# store the target variable 'Type' in a dataframe 'df_target'\n",
    "df_target = df_seed['Type']"
   ]
  },
  {
   "cell_type": "markdown",
   "metadata": {
    "id": "Nh_cZjUxwH_i"
   },
   "source": [
    "Plot a boxplot to visualize the outliers in all the independent variables."
   ]
  },
  {
   "cell_type": "code",
   "execution_count": 19,
   "metadata": {
    "id": "mpU1gqr6wH_i",
    "outputId": "9102a8a3-4249-42d8-fefa-33077a4f2185"
   },
   "outputs": [
    {
     "data": {
      "image/png": "[encoded data removed]",
      "text/plain": [
       "<Figure size 1500x800 with 1 Axes>"
      ]
     },
     "metadata": {},
     "output_type": "display_data"
    }
   ],
   "source": [
    "# plot a boxplot to visualize the outliers in all the independent variables\n",
    "df_feature.boxplot()\n",
    "\n",
    "# set plot label\n",
    "# set text size using 'fontsize'\n",
    "plt.title('Distribution of all Independent Variables', fontsize = 15)\n",
    "\n",
    "# xticks() returns the x-axis ticks\n",
    "# 'rotation = vertical' rotates the x-axis labels vertically\n",
    "# set text size using 'fontsize'\n",
    "plt.xticks(rotation = 'vertical', fontsize = 15)\n",
    "\n",
    "# display the plot\n",
    "plt.show()"
   ]
  },
  {
   "cell_type": "markdown",
   "metadata": {},
   "source": [
    "### Let's begin with some hands-on practice exercises"
   ]
  },
  {
   "cell_type": "markdown",
   "metadata": {},
   "source": [
    "<table align=\"left\">\n",
    "    <tr>\n",
    "        <td width=\"6%\">\n",
    "            <img src=\"question_icon.png\">\n",
    "        </td>\n",
    "        <td>\n",
    "            <div align=\"left\", style=\"font-size:120%\">\n",
    "                <font color=\"#21618C\">\n",
    "                    <b>1. Split the data into training and testing data(80-20 split), using random_state=1. What are the lengths of the training and testing datasets?\n",
    "                    </b>\n",
    "                </font>\n",
    "            </div>\n",
    "        </td>\n",
    "    </tr>\n",
    "</table>"
   ]
  },
  {
   "cell_type": "code",
   "execution_count": 27,
   "metadata": {},
   "outputs": [
    {
     "name": "stdout",
     "output_type": "stream",
     "text": [
      "159\n",
      "40\n"
     ]
    }
   ],
   "source": [
    "# type your code here\n",
    "xtrain,xtest,ytrain,ytest= train_test_split(df_seed,df_target,test_size=0.20,random_state=1)\n",
    "print(len(xtrain))\n",
    "print(len(xtest))"
   ]
  },
  {
   "cell_type": "markdown",
   "metadata": {
    "id": "Pa0KELhXwH_i"
   },
   "source": [
    "<table align=\"left\">\n",
    "    <tr>\n",
    "        <td width=\"6%\">\n",
    "            <img src=\"question_icon.png\">\n",
    "        </td>\n",
    "        <td>\n",
    "            <div align=\"left\", style=\"font-size:120%\">\n",
    "                <font color=\"#21618C\">\n",
    "                    <b>2. Build a GB model on the data with 250 estimators each of maximum depth 2 and calculate the accuracy. Use the training and testing data from Question1 and random_state=1.\n",
    "                    </b>\n",
    "                </font>\n",
    "            </div>\n",
    "        </td>\n",
    "    </tr>\n",
    "</table>"
   ]
  },
  {
   "cell_type": "code",
   "execution_count": 97,
   "metadata": {},
   "outputs": [
    {
     "name": "stdout",
     "output_type": "stream",
     "text": [
      "[0. 0. 1. 1. 0. 0. 0. 1. 1. 1. 1. 0. 1. 0. 0. 0. 1. 0. 0. 1. 0. 1. 0. 0.\n",
      " 0. 0. 1. 0. 0. 0. 0. 1. 0. 0. 0. 0. 0. 1. 1. 1.]\n",
      "Accuracy Score 1.0\n"
     ]
    }
   ],
   "source": [
    "# type your code here\n",
    "from sklearn.ensemble import GradientBoostingClassifier\n",
    "gbcl= GradientBoostingClassifier(n_estimators=250,max_depth=2,random_state=1)\n",
    "gbcl.fit(xtrain,ytrain)\n",
    "y_pred_gbcl = gbcl.predict(xtest)\n",
    "print(y_pred_gbcl)\n",
    "print('Accuracy Score',accuracy_score(ytest,y_pred_gbcl))"
   ]
  },
  {
   "cell_type": "markdown",
   "metadata": {
    "id": "sNIbVBENwH_m"
   },
   "source": [
    "<table align=\"left\">\n",
    "    <tr>\n",
    "        <td width=\"6%\">\n",
    "            <img src=\"question_icon.png\">\n",
    "        </td>\n",
    "        <td>\n",
    "            <div align=\"left\", style=\"font-size:120%\">\n",
    "                <font color=\"#21618C\">\n",
    "                    <b>3. Find the best value of hyperparameters \"n_estimators\", \"learning_rate\" and \"max_depth\" for the gradient boosting full model(Using Grid Search and 5 fold CV). Use the training and testing data from Question1 and random_state=1.\n",
    "                    </b>\n",
    "                </font>\n",
    "            </div>\n",
    "        </td>\n",
    "    </tr>\n",
    "</table>"
   ]
  },
  {
   "cell_type": "markdown",
   "metadata": {},
   "source": [
    "Given list of values:\n",
    "\n",
    "        n_estimators: [100, 150, 200, 250, 300, 350, 400]\n",
    "        learning_rate: [0.0001, 0.0005, 0.001, 0.005, 0.01, 0.05, 0.1, 0.5]\n",
    "        max_depth = [2, 3, 4, 5, 6, 7, 8]"
   ]
  },
  {
   "cell_type": "code",
   "execution_count": 99,
   "metadata": {},
   "outputs": [
    {
     "name": "stdout",
     "output_type": "stream",
     "text": [
      "Best Parameters: {'learning_rate': 0.001, 'max_depth': 2, 'n_estimators': 300}\n",
      "Best Parameters Score: 1.0\n"
     ]
    }
   ],
   "source": [
    "# type your code here\n",
    "from sklearn.model_selection import GridSearchCV\n",
    "param_grid = {'n_estimators':[100, 150, 200, 250, 300, 350, 400],'learning_rate':[0.0001, 0.0005, 0.001, 0.005, 0.01, 0.05, 0.1, 0.5],'max_depth':[2,3,4,5,6,7,8]}\n",
    "grid_search = GridSearchCV(gbcl,param_grid,cv = 5)\n",
    "grid_search.fit(xtrain,ytrain)\n",
    "print('Best Parameters:',grid_search.best_params_)\n",
    "print('Best Parameters Score:',grid_search.best_score_)"
   ]
  },
  {
   "cell_type": "markdown",
   "metadata": {},
   "source": [
    "<table align=\"left\">\n",
    "    <tr>\n",
    "        <td width=\"6%\">\n",
    "            <img src=\"question_icon.png\">\n",
    "        </td>\n",
    "        <td>\n",
    "            <div align=\"left\", style=\"font-size:120%\">\n",
    "                <font color=\"#21618C\">\n",
    "                    <b>4. Build the GB model using the tuned parameters from Question3 and calculate the accuracy score. Use the training and testing data from Question1 and random_state=1.\n",
    "                    </b>\n",
    "                </font>\n",
    "            </div>\n",
    "        </td>\n",
    "    </tr>\n",
    "</table>"
   ]
  },
  {
   "cell_type": "code",
   "execution_count": 87,
   "metadata": {},
   "outputs": [
    {
     "name": "stdout",
     "output_type": "stream",
     "text": [
      "Best Parameters Score: 1.0\n",
      "[0. 0. 1. 1. 0. 0. 0. 1. 1. 1. 1. 0. 1. 0. 0. 0. 1. 0. 0. 1. 0. 1. 0. 0.\n",
      " 0. 0. 1. 0. 0. 0. 0. 1. 0. 0. 0. 0. 0. 1. 1. 1.]\n"
     ]
    },
    {
     "data": {
      "text/plain": [
       "1.0"
      ]
     },
     "execution_count": 87,
     "metadata": {},
     "output_type": "execute_result"
    }
   ],
   "source": [
    "# type your code here\n",
    "\n",
    "from sklearn.ensemble import GradientBoostingClassifier\n",
    "gbcl2 = GradientBoostingClassifier(n_estimators=300,learning_rate=0.001,max_depth=2,random_state=1)\n",
    "gbcl2.fit(xtrain,ytrain)\n",
    "ypred_gbcl2=gbcl2.predict(xtest)\n",
    "print(ypred_gbcl2)\n",
    "accuracy_score(ytest,ypred_gbcl2)"
   ]
  },
  {
   "cell_type": "markdown",
   "metadata": {},
   "source": [
    "<table align=\"left\">\n",
    "    <tr>\n",
    "        <td width=\"6%\">\n",
    "            <img src=\"question_icon.png\">\n",
    "        </td>\n",
    "        <td>\n",
    "            <div align=\"left\", style=\"font-size:120%\">\n",
    "                <font color=\"#21618C\">\n",
    "                    <b>5. Plot the ROC curve with the AUC and the confusion matrix for the model built in Question4.\n",
    "                    </b>\n",
    "                </font>\n",
    "            </div>\n",
    "        </td>\n",
    "    </tr>\n",
    "</table>"
   ]
  },
  {
   "cell_type": "code",
   "execution_count": 65,
   "metadata": {},
   "outputs": [
    {
     "name": "stdout",
     "output_type": "stream",
     "text": [
      "[[25  0]\n",
      " [ 0 15]]\n"
     ]
    },
    {
     "data": {
      "image/png": "[encoded data removed]",
      "text/plain": [
       "<Figure size 1500x800 with 1 Axes>"
      ]
     },
     "metadata": {},
     "output_type": "display_data"
    }
   ],
   "source": [
    "# type your code here\n",
    "gbcl2_ypred_prob = gbcl2.predict_proba(xtest)[:,1]\n",
    "cm = confusion_matrix(ytest,ypred_gbcl2)\n",
    "fpr,tpr,threshholds = roc_curve(ytest,gbcl2_ypred_prob)\n",
    "plt.plot(fpr,tpr)\n",
    "plt.xlabel('False Positive Rate')\n",
    "plt.ylabel('True Positive Rate')\n",
    "plt.plot([0,1],[0,1],'r--')\n",
    "print(cm)\n"
   ]
  },
  {
   "cell_type": "markdown",
   "metadata": {},
   "source": [
    "<table align=\"left\">\n",
    "    <tr>\n",
    "        <td width=\"6%\">\n",
    "            <img src=\"question_icon.png\">\n",
    "        </td>\n",
    "        <td>\n",
    "            <div align=\"left\", style=\"font-size:120%\">\n",
    "                <font color=\"#21618C\">\n",
    "                    <b>6. Find the best value of hyperparameters \"n_estimators\", \"learning_rate\", \"gamma\" and \"max_depth\" for the extreme gradient boosting full model(using Grid Search and 5 fold CV). Use the training and testing data from Question1 and random_state=1.\n",
    "                    </b>\n",
    "                </font>\n",
    "            </div>\n",
    "        </td>\n",
    "    </tr>\n",
    "</table>"
   ]
  },
  {
   "cell_type": "markdown",
   "metadata": {},
   "source": [
    "Given list of values:\n",
    "\n",
    "        n_estimators = [50, 75, 100, 125, 150]\n",
    "        learning_rate = [0.001, 0.005, 0.01, 0.05, 0.1]\n",
    "        gamma = [2, 3, 4, 5, 6]\n",
    "        max_depth = [2, 3, 4, 5, 6]"
   ]
  },
  {
   "cell_type": "code",
   "execution_count": 75,
   "metadata": {},
   "outputs": [
    {
     "name": "stdout",
     "output_type": "stream",
     "text": [
      "Best Parameters: {'gamma': 2, 'learning_rate': 0.005, 'max_depth': 2, 'n_estimators': 75}\n",
      "Best Parameters Score: 1.0\n"
     ]
    }
   ],
   "source": [
    "# type your code here\n",
    "from xgboost import XGBClassifier\n",
    "from sklearn.model_selection import GridSearchCV\n",
    "xgb = XGBClassifier(random_state=1)\n",
    "Grid_parameters = {'n_estimators' : [50, 75, 100, 125, 150],\n",
    "    'learning_rate' : [0.001, 0.005, 0.01, 0.05, 0.1],\n",
    "    'gamma' : [2, 3, 4, 5, 6],\n",
    "    'max_depth' : [2, 3, 4, 5, 6]}\n",
    "grid_search = GridSearchCV(xgb,Grid_parameters,cv = 5)\n",
    "grid_search.fit(xtrain,ytrain)\n",
    "print('Best Parameters:', grid_search.best_params_)\n",
    "print('Best Parameters Score:',grid_search.best_score_)"
   ]
  },
  {
   "cell_type": "markdown",
   "metadata": {},
   "source": [
    "<table align=\"left\">\n",
    "    <tr>\n",
    "        <td width=\"6%\">\n",
    "            <img src=\"question_icon.png\">\n",
    "        </td>\n",
    "        <td>\n",
    "            <div align=\"left\", style=\"font-size:120%\">\n",
    "                <font color=\"#21618C\">\n",
    "                    <b>7. Build the XGB model using the tuned parameters obtained in Question6. Calculate the accuracy score. Use the training and testing data from Question1 and random_state=1.\n",
    "                    </b>\n",
    "                </font>\n",
    "            </div>\n",
    "        </td>\n",
    "    </tr>\n",
    "</table>"
   ]
  },
  {
   "cell_type": "code",
   "execution_count": 85,
   "metadata": {},
   "outputs": [
    {
     "name": "stdout",
     "output_type": "stream",
     "text": [
      "[0 0 1 1 0 0 0 1 1 1 1 0 1 0 0 0 1 0 0 1 0 1 0 0 0 0 1 0 0 0 0 1 0 0 0 0 0\n",
      " 1 1 1]\n",
      "1.0\n"
     ]
    }
   ],
   "source": [
    "# type your code here\n",
    "xbg2 = XGBClassifier(gamma = 2,learning_rate=0.005,max_depth=2,n_estimators=75)\n",
    "xbg2.fit(xtrain,ytrain)\n",
    "ypred_xgb2 = xbg2.predict(xtest)\n",
    "print(ypred_xgb2)\n",
    "print(accuracy_score(ytest,ypred_xgb2))"
   ]
  },
  {
   "cell_type": "markdown",
   "metadata": {},
   "source": [
    "<table align=\"left\">\n",
    "    <tr>\n",
    "        <td width=\"6%\">\n",
    "            <img src=\"question_icon.png\">\n",
    "        </td>\n",
    "        <td>\n",
    "            <div align=\"left\", style=\"font-size:120%\">\n",
    "                <font color=\"#21618C\">\n",
    "                    <b>8. Plot the ROC curve with the AUC and the confusion matrix for the model built in Question7.\n",
    "                    </b>\n",
    "                </font>\n",
    "            </div>\n",
    "        </td>\n",
    "    </tr>\n",
    "</table>"
   ]
  },
  {
   "cell_type": "code",
   "execution_count": 83,
   "metadata": {},
   "outputs": [
    {
     "data": {
      "text/plain": [
       "array([[25,  0],\n",
       "       [ 0, 15]], dtype=int64)"
      ]
     },
     "execution_count": 83,
     "metadata": {},
     "output_type": "execute_result"
    }
   ],
   "source": [
    "# type your code here\n",
    "cm = confusion_matrix(ytest,ypred_xgb2)\n",
    "cm"
   ]
  },
  {
   "cell_type": "code",
   "execution_count": null,
   "metadata": {},
   "outputs": [],
   "source": []
  }
 ],
 "metadata": {
  "colab": {
   "collapsed_sections": [
    "ZDC9GOfDwH_i",
    "Nh_cZjUxwH_i",
    "6bMk9lkVwH_j",
    "Mz8rnVsZwH_j",
    "6HoiMBY-wH_l",
    "0byHSngxwH_l",
    "EMLpANjAwH_m",
    "1YvQAWWuwH_n",
    "s9o-sn30wH_o",
    "_xeVJuFTwH_o",
    "jpB6BwHtwH_o",
    "MFCO5IhTwH_o",
    "MEpVZ-R6wH_p"
   ],
   "name": "SLC - Take home (Day 4) - Solutions [v2.0 - 160920].ipynb",
   "provenance": []
  },
  "kernelspec": {
   "display_name": "Python 3 (ipykernel)",
   "language": "python",
   "name": "python3"
  },
  "language_info": {
   "codemirror_mode": {
    "name": "ipython",
    "version": 3
   },
   "file_extension": ".py",
   "mimetype": "text/x-python",
   "name": "python",
   "nbconvert_exporter": "python",
   "pygments_lexer": "ipython3",
   "version": "3.11.7"
  }
 },
 "nbformat": 4,
 "nbformat_minor": 4
}

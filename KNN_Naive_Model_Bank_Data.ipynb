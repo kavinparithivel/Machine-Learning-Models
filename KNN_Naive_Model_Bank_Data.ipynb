{
 "cells": [
  {
   "cell_type": "markdown",
   "metadata": {
    "id": "rDLyvL2suhL5"
   },
   "source": [
    "### About the data set (Bank Client Data)\n",
    "\n",
    "#### Bank client data:\n",
    "**age:** Age of the client<br>\n",
    "**duration:** last contact duration, in seconds.<br>\n",
    "\n",
    "#### Other attributes:\n",
    "**campaign:** number of contacts performed during this campaign and for this client<br>\n",
    "**pdays:** number of days that passed by after the client was last contacted from a previous campaign (999 means client was not previously contacted)<br>\n",
    "**previous:** number of contacts performed before this campaign and for this client<br>\n",
    "\n",
    "#### Social and economic context attributes\n",
    "**emp.var.rate:** employment variation rate - quarterly indicator<br>\n",
    "**cons.price.idx:** consumer price index - monthly indicator<br>\n",
    "**cons.conf.idx:** consumer confidence index - monthly indicator<br>\n",
    "**euribor3m:** euribor 3 month rate - daily indicator<br>\n",
    "**nr.employed:** number of employees - quarterly indicator<br>\n",
    "\n",
    "**y** - (Output variable) has the client subscribed a term deposit?\n",
    "\n",
    "Data citation: [Moro et al., 2014] S. Moro, P. Cortez and P. Rita. A Data-Driven Approach to Predict the Success of Bank Telemarketing. Decision Support Systems, Elsevier, 62:22-31, June 2014"
   ]
  },
  {
   "cell_type": "markdown",
   "metadata": {
    "id": "_6REdIEouhL6"
   },
   "source": [
    "## Table of Content\n",
    "\n",
    "1. **[K Nearest Neighbors (KNN)](#knn)**\n",
    "2. **[Naive Bayes](#nb)**"
   ]
  },
  {
   "cell_type": "markdown",
   "metadata": {
    "id": "xqizrQBwuhL6"
   },
   "source": [
    "#### Import the required libraries"
   ]
  },
  {
   "cell_type": "code",
   "execution_count": 7,
   "metadata": {
    "id": "VH5SsWxHuhL7"
   },
   "outputs": [],
   "source": [
    "# import 'Pandas'\n",
    "import pandas as pd\n",
    "\n",
    "# import 'Numpy'\n",
    "import numpy as np\n",
    "\n",
    "# import subpackage of Matplotlib\n",
    "import matplotlib.pyplot as plt\n",
    "from matplotlib.colors import ListedColormap\n",
    "\n",
    "# import 'Seaborn'\n",
    "import seaborn as sns\n",
    "\n",
    "# to suppress warnings\n",
    "from warnings import filterwarnings\n",
    "\n",
    "# import train-test split\n",
    "from sklearn.model_selection import train_test_split\n",
    "\n",
    "# import StandardScaler to perform scaling\n",
    "from sklearn.preprocessing import StandardScaler\n",
    "\n",
    "# import various functions from sklearn\n",
    "from sklearn.neighbors import KNeighborsClassifier\n",
    "from sklearn import metrics\n",
    "from sklearn.metrics import classification_report\n",
    "from sklearn.model_selection import GridSearchCV\n",
    "from sklearn.metrics import accuracy_score\n",
    "from sklearn.metrics import roc_curve\n",
    "from sklearn.metrics import roc_auc_score\n",
    "from sklearn.metrics import confusion_matrix\n",
    "from sklearn.model_selection import GridSearchCV\n",
    "from sklearn.model_selection import cross_val_score\n",
    "from sklearn.naive_bayes import GaussianNB\n",
    "\n",
    "# supressing the warnings\n",
    "filterwarnings('ignore')\n",
    "\n",
    "# display all columns of the dataframe\n",
    "pd.options.display.max_columns = None\n",
    "\n",
    "# display all rows of the dataframe\n",
    "pd.options.display.max_rows = None\n",
    "\n",
    "# to display the float values upto 6 decimal places\n",
    "pd.options.display.float_format = '{:.6f}'.format\n",
    "\n",
    "# Setting the random seed\n",
    "# DO NOT CHANGE\n",
    "np.random.seed(1)"
   ]
  },
  {
   "cell_type": "code",
   "execution_count": 8,
   "metadata": {
    "id": "P-p75ko_uhL8"
   },
   "outputs": [],
   "source": [
    "# set the plot size using 'rcParams'\n",
    "# once the plot size is set using 'rcParams', it sets the size of all the forthcoming plots in the file\n",
    "# pass width and height in inches to 'figure.figsize'\n",
    "plt.rcParams['figure.figsize'] = [15,8]"
   ]
  },
  {
   "cell_type": "markdown",
   "metadata": {
    "id": "DPu0UxDBuhL9"
   },
   "source": [
    "#### Load the csv file"
   ]
  },
  {
   "cell_type": "code",
   "execution_count": 10,
   "metadata": {
    "id": "gGwYCZZ4uhL9",
    "outputId": "2a52db55-e47f-4839-aea0-afca4ba7be8b"
   },
   "outputs": [
    {
     "data": {
      "text/html": [
       "<div>\n",
       "<style scoped>\n",
       "    .dataframe tbody tr th:only-of-type {\n",
       "        vertical-align: middle;\n",
       "    }\n",
       "\n",
       "    .dataframe tbody tr th {\n",
       "        vertical-align: top;\n",
       "    }\n",
       "\n",
       "    .dataframe thead th {\n",
       "        text-align: right;\n",
       "    }\n",
       "</style>\n",
       "<table border=\"1\" class=\"dataframe\">\n",
       "  <thead>\n",
       "    <tr style=\"text-align: right;\">\n",
       "      <th></th>\n",
       "      <th>age</th>\n",
       "      <th>duration</th>\n",
       "      <th>campaign</th>\n",
       "      <th>pdays</th>\n",
       "      <th>previous</th>\n",
       "      <th>emp.var.rate</th>\n",
       "      <th>cons.price.idx</th>\n",
       "      <th>cons.conf.idx</th>\n",
       "      <th>euribor3m</th>\n",
       "      <th>nr.employed</th>\n",
       "      <th>y</th>\n",
       "    </tr>\n",
       "  </thead>\n",
       "  <tbody>\n",
       "    <tr>\n",
       "      <th>0</th>\n",
       "      <td>32</td>\n",
       "      <td>205</td>\n",
       "      <td>2</td>\n",
       "      <td>999</td>\n",
       "      <td>0</td>\n",
       "      <td>1.100000</td>\n",
       "      <td>93.994000</td>\n",
       "      <td>-36.400000</td>\n",
       "      <td>4.858000</td>\n",
       "      <td>5191.000000</td>\n",
       "      <td>no</td>\n",
       "    </tr>\n",
       "    <tr>\n",
       "      <th>1</th>\n",
       "      <td>32</td>\n",
       "      <td>691</td>\n",
       "      <td>10</td>\n",
       "      <td>999</td>\n",
       "      <td>0</td>\n",
       "      <td>1.400000</td>\n",
       "      <td>93.918000</td>\n",
       "      <td>-42.700000</td>\n",
       "      <td>4.960000</td>\n",
       "      <td>5228.100000</td>\n",
       "      <td>yes</td>\n",
       "    </tr>\n",
       "    <tr>\n",
       "      <th>2</th>\n",
       "      <td>45</td>\n",
       "      <td>45</td>\n",
       "      <td>8</td>\n",
       "      <td>999</td>\n",
       "      <td>0</td>\n",
       "      <td>1.400000</td>\n",
       "      <td>93.444000</td>\n",
       "      <td>-36.100000</td>\n",
       "      <td>4.963000</td>\n",
       "      <td>5228.100000</td>\n",
       "      <td>no</td>\n",
       "    </tr>\n",
       "    <tr>\n",
       "      <th>3</th>\n",
       "      <td>33</td>\n",
       "      <td>400</td>\n",
       "      <td>1</td>\n",
       "      <td>5</td>\n",
       "      <td>2</td>\n",
       "      <td>-1.100000</td>\n",
       "      <td>94.601000</td>\n",
       "      <td>-49.500000</td>\n",
       "      <td>1.032000</td>\n",
       "      <td>4963.600000</td>\n",
       "      <td>yes</td>\n",
       "    </tr>\n",
       "    <tr>\n",
       "      <th>4</th>\n",
       "      <td>47</td>\n",
       "      <td>903</td>\n",
       "      <td>2</td>\n",
       "      <td>999</td>\n",
       "      <td>1</td>\n",
       "      <td>-1.800000</td>\n",
       "      <td>93.075000</td>\n",
       "      <td>-47.100000</td>\n",
       "      <td>1.415000</td>\n",
       "      <td>5099.100000</td>\n",
       "      <td>yes</td>\n",
       "    </tr>\n",
       "  </tbody>\n",
       "</table>\n",
       "</div>"
      ],
      "text/plain": [
       "   age  duration  campaign  pdays  previous  emp.var.rate  cons.price.idx  \\\n",
       "0   32       205         2    999         0      1.100000       93.994000   \n",
       "1   32       691        10    999         0      1.400000       93.918000   \n",
       "2   45        45         8    999         0      1.400000       93.444000   \n",
       "3   33       400         1      5         2     -1.100000       94.601000   \n",
       "4   47       903         2    999         1     -1.800000       93.075000   \n",
       "\n",
       "   cons.conf.idx  euribor3m  nr.employed    y  \n",
       "0     -36.400000   4.858000  5191.000000   no  \n",
       "1     -42.700000   4.960000  5228.100000  yes  \n",
       "2     -36.100000   4.963000  5228.100000   no  \n",
       "3     -49.500000   1.032000  4963.600000  yes  \n",
       "4     -47.100000   1.415000  5099.100000  yes  "
      ]
     },
     "execution_count": 10,
     "metadata": {},
     "output_type": "execute_result"
    }
   ],
   "source": [
    "# load the csv file\n",
    "df_bank = pd.read_csv('bank.csv')\n",
    "\n",
    "# display the first five observations\n",
    "df_bank.head()"
   ]
  },
  {
   "cell_type": "code",
   "execution_count": 11,
   "metadata": {
    "id": "zMe5v9UKuhL-",
    "outputId": "3f5a34c3-6138-4e3c-e33b-8d9170a8537f"
   },
   "outputs": [
    {
     "data": {
      "text/plain": [
       "age                 int64\n",
       "duration            int64\n",
       "campaign            int64\n",
       "pdays               int64\n",
       "previous            int64\n",
       "emp.var.rate      float64\n",
       "cons.price.idx    float64\n",
       "cons.conf.idx     float64\n",
       "euribor3m         float64\n",
       "nr.employed       float64\n",
       "y                  object\n",
       "dtype: object"
      ]
     },
     "execution_count": 11,
     "metadata": {},
     "output_type": "execute_result"
    }
   ],
   "source": [
    "# check data types of variables\n",
    "df_bank.dtypes"
   ]
  },
  {
   "cell_type": "markdown",
   "metadata": {
    "id": "dZV6YyNluhL_"
   },
   "source": [
    "#### Data Preprocessing"
   ]
  },
  {
   "cell_type": "markdown",
   "metadata": {
    "id": "SPV8xvtVuhMB"
   },
   "source": [
    "Converting target variable to numeric"
   ]
  },
  {
   "cell_type": "code",
   "execution_count": 14,
   "metadata": {
    "id": "EqVhmIuWdTMF"
   },
   "outputs": [],
   "source": [
    "# if the value in the target variable is 'yes' then replace it with 1 else with 0\n",
    "df_bank['y'] = df_bank['y'].apply(lambda x: 1 if x=='yes' else 0)\n",
    "df_bank['y'] = df_bank['y'].astype(int)"
   ]
  },
  {
   "cell_type": "markdown",
   "metadata": {
    "id": "poRQijzOdTMF"
   },
   "source": [
    "Splitting independant and dependant variables"
   ]
  },
  {
   "cell_type": "code",
   "execution_count": 16,
   "metadata": {
    "id": "7jOIi790dTMF"
   },
   "outputs": [],
   "source": [
    "# store the target variable \"y\" in a dataframe 'df_target'\n",
    "df_target = df_bank['y']\n",
    "\n",
    "# store all the independent variables in a dataframe 'df_feature'\n",
    "# drop the column \"y\" using drop()\n",
    "# 'axis = 1' drops the specified column\n",
    "df_feature = df_bank.drop('y', axis = 1)"
   ]
  },
  {
   "cell_type": "markdown",
   "metadata": {
    "id": "rl0Zmm4gdTMF"
   },
   "source": [
    "Outlier Analysis"
   ]
  },
  {
   "cell_type": "code",
   "execution_count": 18,
   "metadata": {
    "id": "QYaUm5OidTMF",
    "outputId": "8f7c76a7-1bde-43e3-99f7-ce12688faa51"
   },
   "outputs": [
    {
     "name": "stdout",
     "output_type": "stream",
     "text": [
      "(9640, 10)\n",
      "(9640,)\n"
     ]
    }
   ],
   "source": [
    "# check the size of data\n",
    "print(df_feature.shape)\n",
    "print(df_target.shape)"
   ]
  },
  {
   "cell_type": "code",
   "execution_count": 19,
   "metadata": {
    "id": "ffX30zRpdTMF",
    "outputId": "f9d05947-fd24-45fa-e7ec-622e8e227e91"
   },
   "outputs": [
    {
     "name": "stdout",
     "output_type": "stream",
     "text": [
      "(6555, 10)\n",
      "(6555,)\n"
     ]
    }
   ],
   "source": [
    "# calculate the first quartile\n",
    "Q1 = df_feature.quantile(0.25)\n",
    "\n",
    "#calculate the third quartile\n",
    "Q3 = df_feature.quantile(0.75)\n",
    "\n",
    "# The Interquartile Range (IQR) is defined as the difference between the third and first quartile\n",
    "# calculate IQR\n",
    "IQR = Q3 - Q1\n",
    "\n",
    "# remove the outliers from the dataframe\n",
    "df_target = df_target[~((df_feature < (Q1 - 1.5 * IQR)) | (df_feature > (Q3 + 1.5 * IQR))).any(axis=1)]\n",
    "df_feature = df_feature[~((df_feature < (Q1 - 1.5 * IQR)) | (df_feature > (Q3 + 1.5 * IQR))).any(axis=1)]\n",
    "\n",
    "# reset the index of the dataframe without outliers\n",
    "df_target = df_target.reset_index(drop = True)\n",
    "df_feature = df_feature.reset_index(drop = True)\n",
    "\n",
    "# check the size of data\n",
    "print(df_feature.shape)\n",
    "print(df_target.shape)"
   ]
  },
  {
   "cell_type": "markdown",
   "metadata": {
    "id": "_5MstYs1dTMG"
   },
   "source": [
    "Replacing the value \"unknown\" from each column with NaN"
   ]
  },
  {
   "cell_type": "code",
   "execution_count": 21,
   "metadata": {
    "id": "TW5jsgwyuhMD",
    "outputId": "84929036-4d9e-4931-c65e-c8bce6ed6df1"
   },
   "outputs": [
    {
     "data": {
      "text/html": [
       "<div>\n",
       "<style scoped>\n",
       "    .dataframe tbody tr th:only-of-type {\n",
       "        vertical-align: middle;\n",
       "    }\n",
       "\n",
       "    .dataframe tbody tr th {\n",
       "        vertical-align: top;\n",
       "    }\n",
       "\n",
       "    .dataframe thead th {\n",
       "        text-align: right;\n",
       "    }\n",
       "</style>\n",
       "<table border=\"1\" class=\"dataframe\">\n",
       "  <thead>\n",
       "    <tr style=\"text-align: right;\">\n",
       "      <th></th>\n",
       "      <th>age</th>\n",
       "      <th>duration</th>\n",
       "      <th>campaign</th>\n",
       "      <th>pdays</th>\n",
       "      <th>previous</th>\n",
       "      <th>emp.var.rate</th>\n",
       "      <th>cons.price.idx</th>\n",
       "      <th>cons.conf.idx</th>\n",
       "      <th>euribor3m</th>\n",
       "      <th>nr.employed</th>\n",
       "    </tr>\n",
       "  </thead>\n",
       "  <tbody>\n",
       "    <tr>\n",
       "      <th>0</th>\n",
       "      <td>32</td>\n",
       "      <td>205</td>\n",
       "      <td>2</td>\n",
       "      <td>999</td>\n",
       "      <td>0</td>\n",
       "      <td>1.100000</td>\n",
       "      <td>93.994000</td>\n",
       "      <td>-36.400000</td>\n",
       "      <td>4.858000</td>\n",
       "      <td>5191.000000</td>\n",
       "    </tr>\n",
       "    <tr>\n",
       "      <th>1</th>\n",
       "      <td>25</td>\n",
       "      <td>243</td>\n",
       "      <td>3</td>\n",
       "      <td>999</td>\n",
       "      <td>0</td>\n",
       "      <td>-1.800000</td>\n",
       "      <td>92.843000</td>\n",
       "      <td>-50.000000</td>\n",
       "      <td>1.531000</td>\n",
       "      <td>5099.100000</td>\n",
       "    </tr>\n",
       "    <tr>\n",
       "      <th>2</th>\n",
       "      <td>36</td>\n",
       "      <td>214</td>\n",
       "      <td>1</td>\n",
       "      <td>999</td>\n",
       "      <td>0</td>\n",
       "      <td>-0.100000</td>\n",
       "      <td>93.200000</td>\n",
       "      <td>-42.000000</td>\n",
       "      <td>4.120000</td>\n",
       "      <td>5195.800000</td>\n",
       "    </tr>\n",
       "    <tr>\n",
       "      <th>3</th>\n",
       "      <td>43</td>\n",
       "      <td>550</td>\n",
       "      <td>1</td>\n",
       "      <td>999</td>\n",
       "      <td>0</td>\n",
       "      <td>1.100000</td>\n",
       "      <td>93.994000</td>\n",
       "      <td>-36.400000</td>\n",
       "      <td>4.857000</td>\n",
       "      <td>5191.000000</td>\n",
       "    </tr>\n",
       "    <tr>\n",
       "      <th>4</th>\n",
       "      <td>52</td>\n",
       "      <td>64</td>\n",
       "      <td>1</td>\n",
       "      <td>999</td>\n",
       "      <td>0</td>\n",
       "      <td>1.100000</td>\n",
       "      <td>93.994000</td>\n",
       "      <td>-36.400000</td>\n",
       "      <td>4.855000</td>\n",
       "      <td>5191.000000</td>\n",
       "    </tr>\n",
       "  </tbody>\n",
       "</table>\n",
       "</div>"
      ],
      "text/plain": [
       "   age  duration  campaign  pdays  previous  emp.var.rate  cons.price.idx  \\\n",
       "0   32       205         2    999         0      1.100000       93.994000   \n",
       "1   25       243         3    999         0     -1.800000       92.843000   \n",
       "2   36       214         1    999         0     -0.100000       93.200000   \n",
       "3   43       550         1    999         0      1.100000       93.994000   \n",
       "4   52        64         1    999         0      1.100000       93.994000   \n",
       "\n",
       "   cons.conf.idx  euribor3m  nr.employed  \n",
       "0     -36.400000   4.858000  5191.000000  \n",
       "1     -50.000000   1.531000  5099.100000  \n",
       "2     -42.000000   4.120000  5195.800000  \n",
       "3     -36.400000   4.857000  5191.000000  \n",
       "4     -36.400000   4.855000  5191.000000  "
      ]
     },
     "execution_count": 21,
     "metadata": {},
     "output_type": "execute_result"
    }
   ],
   "source": [
    "# replace: replace the existing value with the new value\n",
    "# to_replace: existing value to replace\n",
    "# value: the value to replace with\n",
    "df_feature = df_feature.replace(to_replace='unknown', value=np.nan)\n",
    "\n",
    "# print the first 5 observations\n",
    "df_feature.head()"
   ]
  },
  {
   "cell_type": "markdown",
   "metadata": {
    "id": "5VbgYdWbuhMD"
   },
   "source": [
    "First run a check for the presence of missing values and their percentage for each column. Then choose the right approach to treat them."
   ]
  },
  {
   "cell_type": "code",
   "execution_count": 23,
   "metadata": {
    "id": "MvyNuDQQuhME",
    "outputId": "2f9493f4-cdad-474b-c565-32bcaaabe62a"
   },
   "outputs": [
    {
     "data": {
      "text/html": [
       "<div>\n",
       "<style scoped>\n",
       "    .dataframe tbody tr th:only-of-type {\n",
       "        vertical-align: middle;\n",
       "    }\n",
       "\n",
       "    .dataframe tbody tr th {\n",
       "        vertical-align: top;\n",
       "    }\n",
       "\n",
       "    .dataframe thead th {\n",
       "        text-align: right;\n",
       "    }\n",
       "</style>\n",
       "<table border=\"1\" class=\"dataframe\">\n",
       "  <thead>\n",
       "    <tr style=\"text-align: right;\">\n",
       "      <th></th>\n",
       "      <th>Total</th>\n",
       "      <th>Percentage of Missing Values</th>\n",
       "    </tr>\n",
       "  </thead>\n",
       "  <tbody>\n",
       "    <tr>\n",
       "      <th>age</th>\n",
       "      <td>0</td>\n",
       "      <td>0.000000</td>\n",
       "    </tr>\n",
       "    <tr>\n",
       "      <th>duration</th>\n",
       "      <td>0</td>\n",
       "      <td>0.000000</td>\n",
       "    </tr>\n",
       "    <tr>\n",
       "      <th>campaign</th>\n",
       "      <td>0</td>\n",
       "      <td>0.000000</td>\n",
       "    </tr>\n",
       "    <tr>\n",
       "      <th>pdays</th>\n",
       "      <td>0</td>\n",
       "      <td>0.000000</td>\n",
       "    </tr>\n",
       "    <tr>\n",
       "      <th>previous</th>\n",
       "      <td>0</td>\n",
       "      <td>0.000000</td>\n",
       "    </tr>\n",
       "    <tr>\n",
       "      <th>emp.var.rate</th>\n",
       "      <td>0</td>\n",
       "      <td>0.000000</td>\n",
       "    </tr>\n",
       "    <tr>\n",
       "      <th>cons.price.idx</th>\n",
       "      <td>0</td>\n",
       "      <td>0.000000</td>\n",
       "    </tr>\n",
       "    <tr>\n",
       "      <th>cons.conf.idx</th>\n",
       "      <td>0</td>\n",
       "      <td>0.000000</td>\n",
       "    </tr>\n",
       "    <tr>\n",
       "      <th>euribor3m</th>\n",
       "      <td>0</td>\n",
       "      <td>0.000000</td>\n",
       "    </tr>\n",
       "    <tr>\n",
       "      <th>nr.employed</th>\n",
       "      <td>0</td>\n",
       "      <td>0.000000</td>\n",
       "    </tr>\n",
       "  </tbody>\n",
       "</table>\n",
       "</div>"
      ],
      "text/plain": [
       "                Total  Percentage of Missing Values\n",
       "age                 0                      0.000000\n",
       "duration            0                      0.000000\n",
       "campaign            0                      0.000000\n",
       "pdays               0                      0.000000\n",
       "previous            0                      0.000000\n",
       "emp.var.rate        0                      0.000000\n",
       "cons.price.idx      0                      0.000000\n",
       "cons.conf.idx       0                      0.000000\n",
       "euribor3m           0                      0.000000\n",
       "nr.employed         0                      0.000000"
      ]
     },
     "execution_count": 23,
     "metadata": {},
     "output_type": "execute_result"
    }
   ],
   "source": [
    "# sort the variables on the basis of total null values in the variable\n",
    "# 'isnull().sum()' returns the number of missing values in each variable\n",
    "# 'ascending = False' sorts values in the descending order\n",
    "# the variable with highest number of missing values will appear first\n",
    "Total = df_feature.isnull().sum().sort_values(ascending=False)\n",
    "\n",
    "# calculate percentage of missing values\n",
    "# 'ascending = False' sorts values in the descending order\n",
    "# the variable with highest percentage of missing values will appear first\n",
    "Percent = (df_feature.isnull().sum()*100/df_feature.isnull().count()).sort_values(ascending=False)\n",
    "\n",
    "# concat the 'Total' and 'Percent' columns using 'concat' function\n",
    "# pass a list of column names in parameter 'keys'\n",
    "# 'axis = 1' concats along the columns\n",
    "missing_data = pd.concat([Total, Percent], axis = 1, keys = ['Total', 'Percentage of Missing Values'])\n",
    "missing_data"
   ]
  },
  {
   "cell_type": "markdown",
   "metadata": {
    "id": "uQMsb75YdTMG"
   },
   "source": [
    "Removing the unnecessary variables that will not contribute to the model"
   ]
  },
  {
   "cell_type": "code",
   "execution_count": 25,
   "metadata": {
    "id": "NzTuqlrsuhME",
    "outputId": "2b842730-94d0-4e5b-e93a-e095a1cf9dbc"
   },
   "outputs": [
    {
     "data": {
      "text/plain": [
       "age               10.184894\n",
       "duration         253.406706\n",
       "campaign           1.283539\n",
       "pdays              0.000000\n",
       "previous           0.000000\n",
       "emp.var.rate       1.626927\n",
       "cons.price.idx     0.585132\n",
       "cons.conf.idx      4.659679\n",
       "euribor3m          1.779666\n",
       "nr.employed       74.431765\n",
       "dtype: float64"
      ]
     },
     "execution_count": 25,
     "metadata": {},
     "output_type": "execute_result"
    }
   ],
   "source": [
    "# find the standard deviation for the numeric variables\n",
    "df_feature.std()"
   ]
  },
  {
   "cell_type": "markdown",
   "metadata": {
    "id": "aFGlnhx5uhMF"
   },
   "source": [
    "**Interpretation:** The variables `pdays` and `previous` have standard deviation 0."
   ]
  },
  {
   "cell_type": "code",
   "execution_count": 27,
   "metadata": {
    "id": "Rrp62E7NuhMF"
   },
   "outputs": [],
   "source": [
    "# create a list of the columns to drop\n",
    "columns_to_remove = ['pdays', 'previous']\n",
    "\n",
    "# drop the columns using drop()\n",
    "# 'axis = 1' drops the specified column\n",
    "df_feature = df_feature.drop(columns=columns_to_remove, axis=1)"
   ]
  },
  {
   "cell_type": "markdown",
   "metadata": {
    "id": "HFejeZtnuhMG"
   },
   "source": [
    "Plotting the distribution of numeric independent variables to identify skewness"
   ]
  },
  {
   "cell_type": "code",
   "execution_count": 29,
   "metadata": {
    "id": "rVnFUFTDuhMG",
    "outputId": "5bd39d4a-0185-4c7c-d491-2037aba1eea3"
   },
   "outputs": [
    {
     "data": {
      "image/png": "[encoded data removed]",
      "text/plain": [
       "<Figure size 1500x800 with 9 Axes>"
      ]
     },
     "metadata": {},
     "output_type": "display_data"
    },
    {
     "name": "stdout",
     "output_type": "stream",
     "text": [
      "Skewness:\n"
     ]
    },
    {
     "data": {
      "text/plain": [
       "age               0.598601\n",
       "duration          1.041608\n",
       "campaign          1.324147\n",
       "emp.var.rate     -0.575913\n",
       "cons.price.idx   -0.214375\n",
       "cons.conf.idx     0.104692\n",
       "euribor3m        -0.545969\n",
       "nr.employed      -0.880652\n",
       "dtype: float64"
      ]
     },
     "execution_count": 29,
     "metadata": {},
     "output_type": "execute_result"
    }
   ],
   "source": [
    "# for the independent numeric variables, we plot the histogram to check the distribution of the variables\n",
    "# Note: the hist() function considers the numeric variables only, by default\n",
    "# we drop the target variable using drop()\n",
    "# 'axis=1' drops the specified column\n",
    "df_feature.hist()\n",
    "\n",
    "# adjust the subplots\n",
    "plt.tight_layout()\n",
    "\n",
    "# display the plot\n",
    "plt.show()\n",
    "\n",
    "# print the skewness for each numeric independent variable\n",
    "print('Skewness:')\n",
    "# we drop the target variable using drop()\n",
    "# 'axis=1' drops the specified column\n",
    "# skew() returns the coefficient of skewness for each variable\n",
    "df_feature.skew()"
   ]
  },
  {
   "cell_type": "markdown",
   "metadata": {
    "id": "Az1BWpkhdTMH"
   },
   "source": [
    "Plotting the distribution of the target variable"
   ]
  },
  {
   "cell_type": "code",
   "execution_count": 31,
   "metadata": {
    "id": "v47FTUPduhMH",
    "outputId": "e223c4d1-432c-44af-fa8f-ea07f72ccc5a"
   },
   "outputs": [
    {
     "data": {
      "image/png": "[encoded data removed]",
      "text/plain": [
       "<Figure size 1500x800 with 1 Axes>"
      ]
     },
     "metadata": {},
     "output_type": "display_data"
    }
   ],
   "source": [
    "# get counts of 0's and 1's in the target variable\n",
    "df_target.value_counts()\n",
    "\n",
    "# plot the countplot of the target variable\n",
    "sns.countplot(x = df_target)\n",
    "\n",
    "# use below code to print the values in the graph\n",
    "# 'x' and 'y' gives position of the text\n",
    "# 's' is the text\n",
    "plt.text(x = -0.05, y = df_target.value_counts()[0] + 1, s = str(round((df_target.value_counts()[0])*100/len(df_target),2)) + '%')\n",
    "plt.text(x = 0.95, y = df_target.value_counts()[1] +1, s = str(round((df_target.value_counts()[1])*100/len(df_target),2)) + '%')\n",
    "\n",
    "# add plot and axes labels\n",
    "# set text size using 'fontsize'\n",
    "plt.title('Count Plot for Target Variable', fontsize = 15)\n",
    "plt.xlabel('Target Variable', fontsize = 15)\n",
    "plt.ylabel('Count', fontsize = 15)\n",
    "\n",
    "# to show the plot\n",
    "plt.show()"
   ]
  },
  {
   "cell_type": "markdown",
   "metadata": {
    "id": "ZtyOJDfbuhMI"
   },
   "source": [
    "We scale the variables to get all the variables in the same range. With this, we can avoid a problem in which some features come to dominate solely because they tend to have larger values than others."
   ]
  },
  {
   "cell_type": "code",
   "execution_count": 33,
   "metadata": {
    "id": "mLamU8HSuhMI",
    "outputId": "8c2107d2-5f79-49b1-df94-80280074a908"
   },
   "outputs": [
    {
     "data": {
      "text/html": [
       "<div>\n",
       "<style scoped>\n",
       "    .dataframe tbody tr th:only-of-type {\n",
       "        vertical-align: middle;\n",
       "    }\n",
       "\n",
       "    .dataframe tbody tr th {\n",
       "        vertical-align: top;\n",
       "    }\n",
       "\n",
       "    .dataframe thead th {\n",
       "        text-align: right;\n",
       "    }\n",
       "</style>\n",
       "<table border=\"1\" class=\"dataframe\">\n",
       "  <thead>\n",
       "    <tr style=\"text-align: right;\">\n",
       "      <th></th>\n",
       "      <th>age</th>\n",
       "      <th>duration</th>\n",
       "      <th>campaign</th>\n",
       "      <th>emp.var.rate</th>\n",
       "      <th>cons.price.idx</th>\n",
       "      <th>cons.conf.idx</th>\n",
       "      <th>euribor3m</th>\n",
       "      <th>nr.employed</th>\n",
       "    </tr>\n",
       "  </thead>\n",
       "  <tbody>\n",
       "    <tr>\n",
       "      <th>0</th>\n",
       "      <td>-0.722787</td>\n",
       "      <td>-0.480765</td>\n",
       "      <td>-0.024486</td>\n",
       "      <td>0.701361</td>\n",
       "      <td>0.749298</td>\n",
       "      <td>0.910658</td>\n",
       "      <td>0.765585</td>\n",
       "      <td>0.394074</td>\n",
       "    </tr>\n",
       "    <tr>\n",
       "      <th>1</th>\n",
       "      <td>-1.410132</td>\n",
       "      <td>-0.330797</td>\n",
       "      <td>0.754670</td>\n",
       "      <td>-1.081276</td>\n",
       "      <td>-1.217928</td>\n",
       "      <td>-2.008221</td>\n",
       "      <td>-1.104009</td>\n",
       "      <td>-0.840708</td>\n",
       "    </tr>\n",
       "    <tr>\n",
       "      <th>2</th>\n",
       "      <td>-0.330018</td>\n",
       "      <td>-0.445246</td>\n",
       "      <td>-0.803642</td>\n",
       "      <td>-0.036282</td>\n",
       "      <td>-0.607764</td>\n",
       "      <td>-0.291233</td>\n",
       "      <td>0.350869</td>\n",
       "      <td>0.458567</td>\n",
       "    </tr>\n",
       "    <tr>\n",
       "      <th>3</th>\n",
       "      <td>0.357326</td>\n",
       "      <td>0.880787</td>\n",
       "      <td>-0.803642</td>\n",
       "      <td>0.701361</td>\n",
       "      <td>0.749298</td>\n",
       "      <td>0.910658</td>\n",
       "      <td>0.765023</td>\n",
       "      <td>0.394074</td>\n",
       "    </tr>\n",
       "    <tr>\n",
       "      <th>4</th>\n",
       "      <td>1.241055</td>\n",
       "      <td>-1.037225</td>\n",
       "      <td>-0.803642</td>\n",
       "      <td>0.701361</td>\n",
       "      <td>0.749298</td>\n",
       "      <td>0.910658</td>\n",
       "      <td>0.763899</td>\n",
       "      <td>0.394074</td>\n",
       "    </tr>\n",
       "  </tbody>\n",
       "</table>\n",
       "</div>"
      ],
      "text/plain": [
       "        age  duration  campaign  emp.var.rate  cons.price.idx  cons.conf.idx  \\\n",
       "0 -0.722787 -0.480765 -0.024486      0.701361        0.749298       0.910658   \n",
       "1 -1.410132 -0.330797  0.754670     -1.081276       -1.217928      -2.008221   \n",
       "2 -0.330018 -0.445246 -0.803642     -0.036282       -0.607764      -0.291233   \n",
       "3  0.357326  0.880787 -0.803642      0.701361        0.749298       0.910658   \n",
       "4  1.241055 -1.037225 -0.803642      0.701361        0.749298       0.910658   \n",
       "\n",
       "   euribor3m  nr.employed  \n",
       "0   0.765585     0.394074  \n",
       "1  -1.104009    -0.840708  \n",
       "2   0.350869     0.458567  \n",
       "3   0.765023     0.394074  \n",
       "4   0.763899     0.394074  "
      ]
     },
     "execution_count": 33,
     "metadata": {},
     "output_type": "execute_result"
    }
   ],
   "source": [
    "# initialize the standard scalar\n",
    "X_scaler = StandardScaler()\n",
    "\n",
    "# scale all the numerical columns\n",
    "# standardize all the columns of the dataframe 'df_feature'\n",
    "num_scaled = X_scaler.fit_transform(df_feature)\n",
    "\n",
    "# create a dataframe of scaled numerical variables\n",
    "# pass the required column names to the parameter 'columns'\n",
    "X = pd.DataFrame(num_scaled, columns = df_feature.columns)\n",
    "\n",
    "# display first five observations\n",
    "X.head()"
   ]
  },
  {
   "cell_type": "markdown",
   "metadata": {
    "id": "NhEuTHyedTMH"
   },
   "source": [
    "## We shall use the bank marketing dataset that we cleaned above"
   ]
  },
  {
   "cell_type": "markdown",
   "metadata": {
    "id": "CPWEWo4odTMH"
   },
   "source": [
    "Before applying classification techniques to predict whether the client subscribed the term deposit or not, let us split the dataset in train and test set."
   ]
  },
  {
   "cell_type": "code",
   "execution_count": 36,
   "metadata": {
    "id": "ox3lI1NfdTMH",
    "outputId": "c4fa9f90-a551-4e03-c684-605953da6137"
   },
   "outputs": [
    {
     "name": "stdout",
     "output_type": "stream",
     "text": [
      "X_train (5244, 8)\n",
      "y_train (5244,)\n",
      "X_test (1311, 8)\n",
      "y_test (1311,)\n"
     ]
    }
   ],
   "source": [
    "# split data into train subset and test subset\n",
    "# set 'random_state' to generate the same dataset each time you run the code\n",
    "# 'test_size' returns the proportion of data to be included in the testing set\n",
    "X_train, X_test, y_train, y_test = train_test_split(X, df_target, random_state = 10, test_size = 0.2)\n",
    "\n",
    "# check the dimensions of the train & test subset using 'shape'\n",
    "# print dimension of train set\n",
    "print('X_train', X_train.shape)\n",
    "print('y_train', y_train.shape)\n",
    "\n",
    "# print dimension of test set\n",
    "print('X_test', X_test.shape)\n",
    "print('y_test', y_test.shape)\n",
    "\n"
   ]
  },
  {
   "cell_type": "markdown",
   "metadata": {
    "id": "G-4-lje8uhMI"
   },
   "source": [
    "<a id=\"knn\"> </a>\n",
    "## 1. K Nearest Neighbors (KNN)"
   ]
  },
  {
   "cell_type": "markdown",
   "metadata": {
    "collapsed": true,
    "id": "1Zmya4o8uhMJ",
    "jupyter": {
     "outputs_hidden": true
    }
   },
   "source": [
    "<table align=\"left\">\n",
    "    <tr>\n",
    "        <td width=\"6%\">\n",
    "            <img src=\"question_icon.png\">\n",
    "        </td>\n",
    "        <td>\n",
    "            <div align=\"left\", style=\"font-size:120%\">\n",
    "                <font color=\"#21618C\">\n",
    "                    <b>1. Create a function to draw a confusion matrix (heatmap) and a function to plot a roc-auc curve.</b>\n",
    "                </font>\n",
    "            </div>\n",
    "        </td>\n",
    "    </tr>\n",
    "</table>"
   ]
  },
  {
   "cell_type": "code",
   "execution_count": 39,
   "metadata": {},
   "outputs": [
    {
     "data": {
      "image/png": "[encoded data removed]",
      "text/plain": [
       "<Figure size 600x400 with 2 Axes>"
      ]
     },
     "metadata": {},
     "output_type": "display_data"
    }
   ],
   "source": [
    "from sklearn.linear_model import LogisticRegression\n",
    "lr = LogisticRegression()\n",
    "lr.fit(X_train , y_train)\n",
    "y_pred = lr.predict(X_test)\n",
    " \n",
    "cm = metrics.confusion_matrix(y_test, y_pred)\n",
    "\n",
    "plt.figure(figsize=(6, 4))\n",
    "sns.heatmap(cm, annot=True, fmt='d', cmap='Blues')\n",
    "plt.xlabel('Predicted')\n",
    "plt.ylabel('Actual')\n",
    "plt.title('Confusion Matrix')\n",
    "plt.show()"
   ]
  },
  {
   "cell_type": "code",
   "execution_count": 40,
   "metadata": {},
   "outputs": [
    {
     "data": {
      "image/png": "[encoded data removed]",
      "text/plain": [
       "<Figure size 600x400 with 1 Axes>"
      ]
     },
     "metadata": {},
     "output_type": "display_data"
    }
   ],
   "source": [
    "fpr, tpr, thresholds = metrics.roc_curve(y_test, y_pred)\n",
    "roc_auc = metrics.auc(fpr, tpr)\n",
    "roc_auc\n",
    "plt.figure(figsize=(6, 4))\n",
    "plt.plot(fpr, tpr, color='darkorange', lw=2, label='ROC curve (area = %0.2f)' % roc_auc)\n",
    "plt.plot([0, 1], [0, 1], color='navy', lw=2, linestyle='--')\n",
    "plt.xlim([0.0, 1.0])\n",
    "plt.ylim([0.0, 1.05])\n",
    "plt.xlabel('False Positive Rate')\n",
    "plt.ylabel('True Positive Rate')\n",
    "plt.title('Receiver Operating Characteristic (ROC) Curve')\n",
    "plt.legend(loc='lower right')\n",
    "plt.show()"
   ]
  },
  {
   "cell_type": "markdown",
   "metadata": {
    "collapsed": true,
    "id": "cUNetEBtuhMK",
    "jupyter": {
     "outputs_hidden": true
    }
   },
   "source": [
    "<table align=\"left\">\n",
    "    <tr>\n",
    "        <td width=\"6%\">\n",
    "            <img src=\"question_icon.png\">\n",
    "        </td>\n",
    "        <td>\n",
    "            <div align=\"left\", style=\"font-size:120%\">\n",
    "                <font color=\"#21618C\">\n",
    "                    <b>2. Build a knn model on a training dataset with euclidean distance and 3 neighbours to predict whether or not the client subscribed the term deposit. Calculate the accuracy of the model.</b>\n",
    "                </font>\n",
    "            </div>\n",
    "        </td>\n",
    "    </tr>\n",
    "</table>"
   ]
  },
  {
   "cell_type": "code",
   "execution_count": 42,
   "metadata": {
    "id": "uOTRizXRuhML"
   },
   "outputs": [
    {
     "name": "stdout",
     "output_type": "stream",
     "text": [
      "Accuracy Of the Model: 0.8504958047292144\n",
      "              precision    recall  f1-score   support\n",
      "\n",
      "           0       0.89      0.87      0.88       819\n",
      "           1       0.79      0.81      0.80       492\n",
      "\n",
      "    accuracy                           0.85      1311\n",
      "   macro avg       0.84      0.84      0.84      1311\n",
      "weighted avg       0.85      0.85      0.85      1311\n",
      "\n"
     ]
    }
   ],
   "source": [
    "# type your code here\n",
    "sc = StandardScaler()\n",
    "X_train_sc=sc.fit_transform(X_train)\n",
    "X_test_sc=sc.transform(X_test)\n",
    "\n",
    "from sklearn.neighbors import KNeighborsClassifier\n",
    "knn = KNeighborsClassifier(n_neighbors = 3 , p = 2)\n",
    "knn.fit(X_train_sc,y_train)\n",
    "ypred_knn = knn.predict(X_test_sc)\n",
    "\n",
    "print('Accuracy Of the Model:',accuracy_score(y_test,ypred_knn))\n",
    "print(classification_report(y_test,ypred_knn))\n"
   ]
  },
  {
   "cell_type": "markdown",
   "metadata": {
    "collapsed": true,
    "id": "0xXL7svvuhML",
    "jupyter": {
     "outputs_hidden": true
    }
   },
   "source": [
    "<table align=\"left\">\n",
    "    <tr>\n",
    "        <td width=\"6%\">\n",
    "            <img src=\"question_icon.png\">\n",
    "        </td>\n",
    "        <td>\n",
    "            <div align=\"left\", style=\"font-size:120%\">\n",
    "                <font color=\"#21618C\">\n",
    "                    <b>3. Plot a confusion matrix for the KNN model in Question2 using the function created in Question1 and print a classification report. </b>\n",
    "                </font>\n",
    "            </div>\n",
    "        </td>\n",
    "    </tr>\n",
    "</table>"
   ]
  },
  {
   "cell_type": "code",
   "execution_count": 112,
   "metadata": {
    "id": "abrtToW1uhML"
   },
   "outputs": [
    {
     "name": "stdout",
     "output_type": "stream",
     "text": [
      "[[716 103]\n",
      " [ 93 399]]\n"
     ]
    },
    {
     "data": {
      "image/png": "[encoded data removed]",
      "text/plain": [
       "<Figure size 600x400 with 2 Axes>"
      ]
     },
     "metadata": {},
     "output_type": "display_data"
    }
   ],
   "source": [
    "# type your code here\n",
    "cm = metrics.confusion_matrix(y_test, ypred_knn)\n",
    "print(cm)\n",
    "\n",
    "plt.figure(figsize=(6, 4))\n",
    "sns.heatmap(cm, annot=True, fmt='d', cmap='Blues')\n",
    "plt.xlabel('Predicted')\n",
    "plt.ylabel('Actual')\n",
    "plt.title('Confusion Matrix')\n",
    "plt.show()\n"
   ]
  },
  {
   "cell_type": "markdown",
   "metadata": {
    "collapsed": true,
    "id": "4ps4q1iAuhMM",
    "jupyter": {
     "outputs_hidden": true
    }
   },
   "source": [
    "<table align=\"left\">\n",
    "    <tr>\n",
    "        <td width=\"6%\">\n",
    "            <img src=\"question_icon.png\">\n",
    "        </td>\n",
    "        <td>\n",
    "            <div align=\"left\", style=\"font-size:120%\">\n",
    "                <font color=\"#21618C\">\n",
    "                    <b>4. Find the optimal value of the parameters from the given list of parameters in knn with 3 fold cross validation.</b>\n",
    "                </font>\n",
    "            </div>\n",
    "        </td>\n",
    "    </tr>\n",
    "</table>"
   ]
  },
  {
   "cell_type": "markdown",
   "metadata": {
    "id": "8aHXqBzsuhMM"
   },
   "source": [
    "Given list of values:\n",
    "\n",
    "    n_neighbors = np.arange(1, 25, 2)\n",
    "    metric = ['hamming','euclidean','manhattan','Chebyshev']"
   ]
  },
  {
   "cell_type": "code",
   "execution_count": 47,
   "metadata": {
    "id": "b5YkVgL-uhMM"
   },
   "outputs": [
    {
     "data": {
      "text/plain": [
       "{'metric': 'manhattan', 'n_neighbors': 15}"
      ]
     },
     "execution_count": 47,
     "metadata": {},
     "output_type": "execute_result"
    }
   ],
   "source": [
    "# type your code here\n",
    "\n",
    "metric = ['hamming','euclidean','manhattan','Chebyshev']\n",
    "parameters = {'n_neighbors':np.arange(1, 25, 2),'metric': ['hamming','euclidean','manhattan','Chebyshev']}\n",
    "knn11=KNeighborsClassifier()\n",
    "knncv=GridSearchCV(knn11,parameters,cv=5,scoring = 'accuracy')\n",
    "knncv.fit(X_train_sc,y_train)\n",
    "knncv.best_params_"
   ]
  },
  {
   "cell_type": "markdown",
   "metadata": {
    "collapsed": true,
    "id": "MRB5SHhwuhMN",
    "jupyter": {
     "outputs_hidden": true
    }
   },
   "source": [
    "<table align=\"left\">\n",
    "    <tr>\n",
    "        <td width=\"6%\">\n",
    "            <img src=\"question_icon.png\">\n",
    "        </td>\n",
    "        <td>\n",
    "            <div align=\"left\", style=\"font-size:120%\">\n",
    "                <font color=\"#21618C\">\n",
    "                    <b>5.  Build a KNN model with the best parameters from Question4 and find the accuracy. Also generate a classification report.</b>\n",
    "                </font>\n",
    "            </div>\n",
    "        </td>\n",
    "    </tr>\n",
    "</table>"
   ]
  },
  {
   "cell_type": "code",
   "execution_count": 56,
   "metadata": {
    "id": "U_oW666ruhMN"
   },
   "outputs": [
    {
     "name": "stdout",
     "output_type": "stream",
     "text": [
      "Accuracy: 0.858886346300534\n",
      "Classification Report:\n",
      "               precision    recall  f1-score   support\n",
      "\n",
      "           0       0.91      0.86      0.88       819\n",
      "           1       0.79      0.85      0.82       492\n",
      "\n",
      "    accuracy                           0.86      1311\n",
      "   macro avg       0.85      0.86      0.85      1311\n",
      "weighted avg       0.86      0.86      0.86      1311\n",
      "\n"
     ]
    }
   ],
   "source": [
    "# type your code here\n",
    "import pandas as pd\n",
    "from sklearn.model_selection import train_test_split\n",
    "from sklearn.neighbors import KNeighborsClassifier\n",
    "from sklearn.metrics import accuracy_score, classification_report\n",
    "\n",
    "\n",
    "\n",
    "\n",
    "\n",
    "knn = KNeighborsClassifier(n_neighbors=15, metric='manhattan')\n",
    "\n",
    "# Train the model\n",
    "knn.fit(X_train, y_train)\n",
    "\n",
    "# Make predictions on the testing set\n",
    "y_pred = knn.predict(X_test)\n",
    "\n",
    "# Calculate accuracy\n",
    "accuracy = accuracy_score(y_test, y_pred)\n",
    "print(\"Accuracy:\", accuracy)\n",
    "\n",
    "# Generate a classification report\n",
    "report = classification_report(y_test, y_pred)\n",
    "print(\"Classification Report:\\n\", report)\n"
   ]
  },
  {
   "cell_type": "markdown",
   "metadata": {
    "collapsed": true,
    "id": "M1veJ9pEuhMN",
    "jupyter": {
     "outputs_hidden": true
    }
   },
   "source": [
    "<table align=\"left\">\n",
    "    <tr>\n",
    "        <td width=\"6%\">\n",
    "            <img src=\"question_icon.png\">\n",
    "        </td>\n",
    "        <td>\n",
    "            <div align=\"left\", style=\"font-size:120%\">\n",
    "                <font color=\"#21618C\">\n",
    "                    <b>6. Find the area under the receiver operating characteristic curve and the confusion matrix for the tuned KNN model built in Question5.</b>\n",
    "                </font>\n",
    "            </div>\n",
    "        </td>\n",
    "    </tr>\n",
    "</table>"
   ]
  },
  {
   "cell_type": "code",
   "execution_count": 68,
   "metadata": {
    "id": "WMfEijRluhMN"
   },
   "outputs": [
    {
     "name": "stdout",
     "output_type": "stream",
     "text": [
      "AUC-ROC: 0.9262808104271518\n",
      "Confusion Matrix:\n",
      " [[708 111]\n",
      " [ 74 418]]\n"
     ]
    },
    {
     "data": {
      "image/png": "[encoded data removed]",
      "text/plain": [
       "<Figure size 600x400 with 2 Axes>"
      ]
     },
     "metadata": {},
     "output_type": "display_data"
    }
   ],
   "source": [
    "from sklearn.metrics import roc_curve, auc, confusion_matrix\n",
    "\n",
    "\n",
    "\n",
    "# Make predictions with probabilities\n",
    "y_pred_proba = knn.predict_proba(X_test)\n",
    "\n",
    "# Calculate the false positive rate (FPR) and true positive rate (TPR)\n",
    "fpr, tpr, thresholds = roc_curve(y_test, y_pred_proba[:, 1])\n",
    "\n",
    "# Calculate the AUC\n",
    "roc_auc = auc(fpr, tpr)\n",
    "print('AUC-ROC:', roc_auc)\n",
    "\n",
    "# Calculate the confusion matrix\n",
    "cm = confusion_matrix(y_test, y_pred)\n",
    "print('Confusion Matrix:\\n', cm)\n",
    "plt.figure(figsize=(6, 4))\n",
    "sns.heatmap(cm, annot=True, fmt='d', cmap='Blues')\n",
    "plt.xlabel('Predicted')\n",
    "plt.ylabel('Actual')\n",
    "plt.title('Confusion Matrix')\n",
    "plt.show()"
   ]
  },
  {
   "cell_type": "markdown",
   "metadata": {
    "collapsed": true,
    "id": "h0ClHYuXuhMO",
    "jupyter": {
     "outputs_hidden": true
    }
   },
   "source": [
    "<table align=\"left\">\n",
    "    <tr>\n",
    "        <td width=\"6%\">\n",
    "            <img src=\"question_icon.png\">\n",
    "        </td>\n",
    "        <td>\n",
    "            <div align=\"left\", style=\"font-size:120%\">\n",
    "                <font color=\"#21618C\">\n",
    "                    <b>7. Calculate the percentage of misclassified and correctly classified observations for the model built in Question5.</b>\n",
    "                </font>\n",
    "            </div>\n",
    "        </td>\n",
    "    </tr>\n",
    "</table>"
   ]
  },
  {
   "cell_type": "code",
   "execution_count": 70,
   "metadata": {
    "id": "75D37dTluhMO"
   },
   "outputs": [
    {
     "name": "stdout",
     "output_type": "stream",
     "text": [
      "Accuracy: 0.858886346300534\n",
      "Misclassified Percentage: 14.111365369946604\n",
      "Correctly Classified Percentage: 85.88863463005339\n"
     ]
    }
   ],
   "source": [
    "# type your code here\n",
    "from sklearn.metrics import accuracy_score\n",
    "\n",
    "\n",
    "\n",
    "# Calculate accuracy\n",
    "accuracy = accuracy_score(y_test, y_pred)\n",
    "\n",
    "# Calculate misclassification rate\n",
    "misclassification_rate = 1 - accuracy\n",
    "\n",
    "# Calculate percentage of misclassified observations\n",
    "misclassified_percentage = misclassification_rate * 100\n",
    "\n",
    "# Calculate percentage of correctly classified observations\n",
    "correctly_classified_percentage = accuracy * 100\n",
    "\n",
    "print(\"Accuracy:\", accuracy)\n",
    "print(\"Misclassified Percentage:\", misclassified_percentage)\n",
    "print(\"Correctly Classified Percentage:\", correctly_classified_percentage)\n"
   ]
  },
  {
   "cell_type": "markdown",
   "metadata": {
    "collapsed": true,
    "id": "WJthb5pKuhMO",
    "jupyter": {
     "outputs_hidden": true
    }
   },
   "source": [
    "<table align=\"left\">\n",
    "    <tr>\n",
    "        <td width=\"6%\">\n",
    "            <img src=\"question_icon.png\">\n",
    "        </td>\n",
    "        <td>\n",
    "            <div align=\"left\", style=\"font-size:120%\">\n",
    "                <font color=\"#21618C\">\n",
    "                    <b>8. Compute the accuracy for each value of k and append the value in a list 'accuracy'. Build knn models for euclidean distance metric. Consider only the odd numbers between the range 1 and 25 for the 'k'.</b>\n",
    "                </font>\n",
    "            </div>\n",
    "        </td>\n",
    "    </tr>\n",
    "</table>"
   ]
  },
  {
   "cell_type": "code",
   "execution_count": 76,
   "metadata": {
    "id": "xJJFzCLuuhMO"
   },
   "outputs": [
    {
     "name": "stdout",
     "output_type": "stream",
     "text": [
      "K = 1, Accuracy = 0.8276\n",
      "K = 3, Accuracy = 0.8514\n",
      "K = 5, Accuracy = 0.8575\n",
      "K = 7, Accuracy = 0.8606\n",
      "K = 9, Accuracy = 0.8612\n",
      "K = 11, Accuracy = 0.8617\n",
      "K = 13, Accuracy = 0.8642\n",
      "K = 15, Accuracy = 0.8625\n",
      "K = 17, Accuracy = 0.8652\n",
      "K = 19, Accuracy = 0.8650\n",
      "K = 21, Accuracy = 0.8635\n",
      "K = 23, Accuracy = 0.8640\n",
      "K = 25, Accuracy = 0.8627\n"
     ]
    }
   ],
   "source": [
    "\n",
    "\n",
    "# Standardize the features\n",
    "scaler = StandardScaler()\n",
    "X_train_scaled = scaler.fit_transform(X_train)\n",
    "\n",
    "# Define the odd K values between 1 and 25\n",
    "k_values = list(range(1, 26, 2))\n",
    "\n",
    "# List to store the accuracy for each K\n",
    "accuracy = []\n",
    "\n",
    "# Perform 5-fold cross-validation for each K and append the accuracy to the list\n",
    "for k in k_values:\n",
    "    knn = KNeighborsClassifier(n_neighbors=k, metric='euclidean')\n",
    "    cv_scores = cross_val_score(knn, X_train_scaled, y_train, cv=5, scoring='accuracy')\n",
    "    accuracy.append(np.mean(cv_scores))\n",
    "\n",
    "# Print the accuracy for each K value\n",
    "for k, acc in zip(k_values, accuracy):\n",
    "    print(f'K = {k}, Accuracy = {acc:.4f}')\n"
   ]
  },
  {
   "cell_type": "markdown",
   "metadata": {
    "collapsed": true,
    "id": "Z4FLR-obuhMP",
    "jupyter": {
     "outputs_hidden": true
    }
   },
   "source": [
    "<table align=\"left\">\n",
    "    <tr>\n",
    "        <td width=\"6%\">\n",
    "            <img src=\"question_icon.png\">\n",
    "        </td>\n",
    "        <td>\n",
    "            <div align=\"left\", style=\"font-size:120%\">\n",
    "                <font color=\"#21618C\">\n",
    "                    <b>9. Draw a line plot to see the accuracy (list created in the Question8) for each value of K(given) using euclidean distance as a metric of KNN model and find the optimal value of 'k'.</b>\n",
    "                </font>\n",
    "            </div>\n",
    "        </td>\n",
    "    </tr>\n",
    "</table>"
   ]
  },
  {
   "cell_type": "markdown",
   "metadata": {
    "id": "xgjsVsBHuhMP"
   },
   "source": [
    "Given list of values:\n",
    "\n",
    "    n_neighbors = np.arange(1, 25, 2)"
   ]
  },
  {
   "cell_type": "code",
   "execution_count": 78,
   "metadata": {
    "id": "yp1x0j2FuhMP"
   },
   "outputs": [
    {
     "data": {
      "image/png": "[encoded data removed]",
      "text/plain": [
       "<Figure size 1000x600 with 1 Axes>"
      ]
     },
     "metadata": {},
     "output_type": "display_data"
    },
    {
     "name": "stdout",
     "output_type": "stream",
     "text": [
      "The optimal value of K is 17 with an accuracy of 0.8652\n"
     ]
    }
   ],
   "source": [
    "# type your code here\n",
    "# Import necessary libraries\n",
    "import matplotlib.pyplot as plt\n",
    "\n",
    "# Define the odd K values between 1 and 25\n",
    "k_values = list(range(1, 26, 2))\n",
    "\n",
    "# Assuming 'accuracy' list has already been computed (as per previous question)\n",
    "\n",
    "# Plot the line graph\n",
    "plt.figure(figsize=(10, 6))\n",
    "plt.plot(k_values, accuracy, marker='o', linestyle='-', color='b', label='Accuracy')\n",
    "\n",
    "# Adding labels and title\n",
    "plt.xlabel('K value (Odd numbers between 1 and 25)', fontsize=12)\n",
    "plt.ylabel('Accuracy', fontsize=12)\n",
    "plt.title('KNN Model Accuracy vs. K Value (Euclidean Distance)', fontsize=14)\n",
    "plt.grid(True)\n",
    "\n",
    "# Highlight the optimal K value\n",
    "optimal_k = k_values[accuracy.index(max(accuracy))]\n",
    "plt.axvline(x=optimal_k, color='r', linestyle='--', label=f'Optimal K = {optimal_k}')\n",
    "\n",
    "# Show legend\n",
    "plt.legend()\n",
    "\n",
    "# Display the plot\n",
    "plt.show()\n",
    "\n",
    "# Print the optimal K value\n",
    "print(f'The optimal value of K is {optimal_k} with an accuracy of {max(accuracy):.4f}')\n"
   ]
  },
  {
   "cell_type": "markdown",
   "metadata": {
    "id": "W2wDTsPsuhMP"
   },
   "source": [
    "<a id=\"nb\"> </a>\n",
    "## 2. Naive Bayes"
   ]
  },
  {
   "cell_type": "markdown",
   "metadata": {
    "collapsed": true,
    "id": "BXzo98RGuhMP",
    "jupyter": {
     "outputs_hidden": true
    }
   },
   "source": [
    "<table align=\"left\">\n",
    "    <tr>\n",
    "        <td width=\"6%\">\n",
    "            <img src=\"question_icon.png\">\n",
    "        </td>\n",
    "        <td>\n",
    "            <div align=\"left\", style=\"font-size:120%\">\n",
    "                <font color=\"#21618C\">\n",
    "                    <b>10. Build a Gaussian naive bayes model(no parameters) and generate a classification report. Also tell how well is the model performing.</b>\n",
    "                </font>\n",
    "            </div>\n",
    "        </td>\n",
    "    </tr>\n",
    "</table>"
   ]
  },
  {
   "cell_type": "code",
   "execution_count": 96,
   "metadata": {
    "id": "N6ZzYWmCuhMP"
   },
   "outputs": [
    {
     "name": "stdout",
     "output_type": "stream",
     "text": [
      "              precision    recall  f1-score   support\n",
      "\n",
      "           0       0.84      0.76      0.80       819\n",
      "           1       0.66      0.75      0.70       492\n",
      "\n",
      "    accuracy                           0.76      1311\n",
      "   macro avg       0.75      0.76      0.75      1311\n",
      "weighted avg       0.77      0.76      0.76      1311\n",
      "\n"
     ]
    }
   ],
   "source": [
    "# type your code here\n",
    "\n",
    "\n",
    "# Create   \n",
    "\n",
    "gnb = GaussianNB()\n",
    "\n",
    "# Train the model\n",
    "gnb.fit(X_train, y_train)\n",
    "\n",
    "# Make predictions on the   \n",
    " \n",
    "y_pred = gnb.predict(X_test)\n",
    "\n",
    "# Generate a classification report\n",
    "report = classification_report(y_test, y_pred)\n",
    "print(report)\n"
   ]
  },
  {
   "cell_type": "markdown",
   "metadata": {
    "collapsed": true,
    "id": "rnv2V40DuhMQ",
    "jupyter": {
     "outputs_hidden": true
    }
   },
   "source": [
    "<table align=\"left\">\n",
    "    <tr>\n",
    "        <td width=\"6%\">\n",
    "            <img src=\"question_icon.png\">\n",
    "        </td>\n",
    "        <td>\n",
    "            <div align=\"left\", style=\"font-size:120%\">\n",
    "                <font color=\"#21618C\">\n",
    "                    <b>11. Find the area under the receiver operating characteristic curve and the confusion matrix for the Naive Bayes model built in Question10.</b>\n",
    "                </font>\n",
    "            </div>\n",
    "        </td>\n",
    "    </tr>\n",
    "</table>"
   ]
  },
  {
   "cell_type": "code",
   "execution_count": 98,
   "metadata": {
    "id": "tuvEkliZuhMQ"
   },
   "outputs": [
    {
     "name": "stdout",
     "output_type": "stream",
     "text": [
      "AUC-ROC: 0.8760385955507908\n",
      "Confusion Matrix:\n",
      " [[625 194]\n",
      " [123 369]]\n"
     ]
    }
   ],
   "source": [
    "# type your code here\n",
    "y_pred_proba = gnb.predict_proba(X_test)[:, 1]  # Assuming binary classification\n",
    "\n",
    "# Calculate ROC curve\n",
    "fpr, tpr, thresholds = roc_curve(y_test, y_pred_proba)\n",
    "\n",
    "# Calculate AUC\n",
    "roc_auc = auc(fpr, tpr)\n",
    "print('AUC-ROC:', roc_auc)\n",
    "\n",
    "# Calculate confusion matrix\n",
    "cm = confusion_matrix(y_test, y_pred)\n",
    "print('Confusion Matrix:\\n', cm)"
   ]
  },
  {
   "cell_type": "markdown",
   "metadata": {
    "collapsed": true,
    "id": "FyIxDZzOuhMQ",
    "jupyter": {
     "outputs_hidden": true
    }
   },
   "source": [
    "<table align=\"left\">\n",
    "    <tr>\n",
    "        <td width=\"6%\">\n",
    "            <img src=\"question_icon.png\">\n",
    "        </td>\n",
    "        <td>\n",
    "            <div align=\"left\", style=\"font-size:120%\">\n",
    "                <font color=\"#21618C\">\n",
    "                    <b>12. Build a Gaussian Naive Bayes model(no parameters) and perform 10 fold cross validation and find the average accuracy.</b>\n",
    "                </font>\n",
    "            </div>\n",
    "        </td>\n",
    "    </tr>\n",
    "</table>"
   ]
  },
  {
   "cell_type": "code",
   "execution_count": 104,
   "metadata": {
    "id": "TJ0AnlxmuhMQ"
   },
   "outputs": [
    {
     "name": "stdout",
     "output_type": "stream",
     "text": [
      "Average Accuracy from 10-fold CV: 0.7803190746602122\n"
     ]
    }
   ],
   "source": [
    "\n",
    "scaler = StandardScaler()\n",
    "X_scaled = scaler.fit_transform(X)\n",
    "\n",
    "# Create a Gaussian Naive Bayes model (no parameters needed)\n",
    "gnb = GaussianNB()\n",
    "\n",
    "# Perform 10-fold cross-validation\n",
    "scores = cross_val_score(gnb, X_scaled, df_target, cv=10, scoring='accuracy')\n",
    "\n",
    "# Calculate and print the average accuracy\n",
    "average_accuracy = scores.mean()\n",
    "print(\"Average Accuracy from 10-fold CV:\", average_accuracy)\n"
   ]
  },
  {
   "cell_type": "code",
   "execution_count": null,
   "metadata": {},
   "outputs": [],
   "source": []
  }
 ],
 "metadata": {
  "colab": {
   "provenance": []
  },
  "kernelspec": {
   "display_name": "Python 3 (ipykernel)",
   "language": "python",
   "name": "python3"
  },
  "language_info": {
   "codemirror_mode": {
    "name": "ipython",
    "version": 3
   },
   "file_extension": ".py",
   "mimetype": "text/x-python",
   "name": "python",
   "nbconvert_exporter": "python",
   "pygments_lexer": "ipython3",
   "version": "3.11.7"
  }
 },
 "nbformat": 4,
 "nbformat_minor": 4
}
